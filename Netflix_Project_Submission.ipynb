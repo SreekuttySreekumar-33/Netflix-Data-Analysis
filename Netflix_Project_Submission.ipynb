{
  "nbformat": 4,
  "nbformat_minor": 0,
  "metadata": {
    "colab": {
      "provenance": []
    },
    "kernelspec": {
      "name": "python3",
      "display_name": "Python 3"
    },
    "language_info": {
      "name": "python"
    }
  },
  "cells": [
    {
      "cell_type": "code",
      "execution_count": null,
      "metadata": {
        "id": "VXozf0WlMz6K"
      },
      "outputs": [],
      "source": [
        "# Importing all the libraries needed \n",
        "import pandas as pd\n",
        "import numpy as np\n",
        "import seaborn as sns\n",
        "import matplotlib.pyplot as plt"
      ]
    },
    {
      "cell_type": "code",
      "source": [
        "# Read the dataset of Netflix in df\n",
        "df=pd.read_csv(r\"https://d2beiqkhq929f0.cloudfront.net/public_assets/assets/000/000/940/original/netflix.csv\")"
      ],
      "metadata": {
        "id": "EvPCeaPLNX2d"
      },
      "execution_count": null,
      "outputs": []
    },
    {
      "cell_type": "markdown",
      "source": [
        "**1**. **Introduction**"
      ],
      "metadata": {
        "id": "dRhFbc3oNc36"
      }
    },
    {
      "cell_type": "code",
      "source": [
        "# Displaying first 5 rows\n",
        "df.head()"
      ],
      "metadata": {
        "colab": {
          "base_uri": "https://localhost:8080/",
          "height": 406
        },
        "id": "vLStt4lCNejr",
        "outputId": "d64c0ab4-98f9-4cc9-de07-304bb57169f6"
      },
      "execution_count": null,
      "outputs": [
        {
          "output_type": "execute_result",
          "data": {
            "text/plain": [
              "  show_id     type                  title         director  \\\n",
              "0      s1    Movie   Dick Johnson Is Dead  Kirsten Johnson   \n",
              "1      s2  TV Show          Blood & Water              NaN   \n",
              "2      s3  TV Show              Ganglands  Julien Leclercq   \n",
              "3      s4  TV Show  Jailbirds New Orleans              NaN   \n",
              "4      s5  TV Show           Kota Factory              NaN   \n",
              "\n",
              "                                                cast        country  \\\n",
              "0                                                NaN  United States   \n",
              "1  Ama Qamata, Khosi Ngema, Gail Mabalane, Thaban...   South Africa   \n",
              "2  Sami Bouajila, Tracy Gotoas, Samuel Jouy, Nabi...            NaN   \n",
              "3                                                NaN            NaN   \n",
              "4  Mayur More, Jitendra Kumar, Ranjan Raj, Alam K...          India   \n",
              "\n",
              "           date_added  release_year rating   duration  \\\n",
              "0  September 25, 2021          2020  PG-13     90 min   \n",
              "1  September 24, 2021          2021  TV-MA  2 Seasons   \n",
              "2  September 24, 2021          2021  TV-MA   1 Season   \n",
              "3  September 24, 2021          2021  TV-MA   1 Season   \n",
              "4  September 24, 2021          2021  TV-MA  2 Seasons   \n",
              "\n",
              "                                           listed_in  \\\n",
              "0                                      Documentaries   \n",
              "1    International TV Shows, TV Dramas, TV Mysteries   \n",
              "2  Crime TV Shows, International TV Shows, TV Act...   \n",
              "3                             Docuseries, Reality TV   \n",
              "4  International TV Shows, Romantic TV Shows, TV ...   \n",
              "\n",
              "                                         description  \n",
              "0  As her father nears the end of his life, filmm...  \n",
              "1  After crossing paths at a party, a Cape Town t...  \n",
              "2  To protect his family from a powerful drug lor...  \n",
              "3  Feuds, flirtations and toilet talk go down amo...  \n",
              "4  In a city of coaching centers known to train I...  "
            ],
            "text/html": [
              "\n",
              "  <div id=\"df-e2eabfea-38d5-4f30-8f33-f1bff3ce887c\">\n",
              "    <div class=\"colab-df-container\">\n",
              "      <div>\n",
              "<style scoped>\n",
              "    .dataframe tbody tr th:only-of-type {\n",
              "        vertical-align: middle;\n",
              "    }\n",
              "\n",
              "    .dataframe tbody tr th {\n",
              "        vertical-align: top;\n",
              "    }\n",
              "\n",
              "    .dataframe thead th {\n",
              "        text-align: right;\n",
              "    }\n",
              "</style>\n",
              "<table border=\"1\" class=\"dataframe\">\n",
              "  <thead>\n",
              "    <tr style=\"text-align: right;\">\n",
              "      <th></th>\n",
              "      <th>show_id</th>\n",
              "      <th>type</th>\n",
              "      <th>title</th>\n",
              "      <th>director</th>\n",
              "      <th>cast</th>\n",
              "      <th>country</th>\n",
              "      <th>date_added</th>\n",
              "      <th>release_year</th>\n",
              "      <th>rating</th>\n",
              "      <th>duration</th>\n",
              "      <th>listed_in</th>\n",
              "      <th>description</th>\n",
              "    </tr>\n",
              "  </thead>\n",
              "  <tbody>\n",
              "    <tr>\n",
              "      <th>0</th>\n",
              "      <td>s1</td>\n",
              "      <td>Movie</td>\n",
              "      <td>Dick Johnson Is Dead</td>\n",
              "      <td>Kirsten Johnson</td>\n",
              "      <td>NaN</td>\n",
              "      <td>United States</td>\n",
              "      <td>September 25, 2021</td>\n",
              "      <td>2020</td>\n",
              "      <td>PG-13</td>\n",
              "      <td>90 min</td>\n",
              "      <td>Documentaries</td>\n",
              "      <td>As her father nears the end of his life, filmm...</td>\n",
              "    </tr>\n",
              "    <tr>\n",
              "      <th>1</th>\n",
              "      <td>s2</td>\n",
              "      <td>TV Show</td>\n",
              "      <td>Blood &amp; Water</td>\n",
              "      <td>NaN</td>\n",
              "      <td>Ama Qamata, Khosi Ngema, Gail Mabalane, Thaban...</td>\n",
              "      <td>South Africa</td>\n",
              "      <td>September 24, 2021</td>\n",
              "      <td>2021</td>\n",
              "      <td>TV-MA</td>\n",
              "      <td>2 Seasons</td>\n",
              "      <td>International TV Shows, TV Dramas, TV Mysteries</td>\n",
              "      <td>After crossing paths at a party, a Cape Town t...</td>\n",
              "    </tr>\n",
              "    <tr>\n",
              "      <th>2</th>\n",
              "      <td>s3</td>\n",
              "      <td>TV Show</td>\n",
              "      <td>Ganglands</td>\n",
              "      <td>Julien Leclercq</td>\n",
              "      <td>Sami Bouajila, Tracy Gotoas, Samuel Jouy, Nabi...</td>\n",
              "      <td>NaN</td>\n",
              "      <td>September 24, 2021</td>\n",
              "      <td>2021</td>\n",
              "      <td>TV-MA</td>\n",
              "      <td>1 Season</td>\n",
              "      <td>Crime TV Shows, International TV Shows, TV Act...</td>\n",
              "      <td>To protect his family from a powerful drug lor...</td>\n",
              "    </tr>\n",
              "    <tr>\n",
              "      <th>3</th>\n",
              "      <td>s4</td>\n",
              "      <td>TV Show</td>\n",
              "      <td>Jailbirds New Orleans</td>\n",
              "      <td>NaN</td>\n",
              "      <td>NaN</td>\n",
              "      <td>NaN</td>\n",
              "      <td>September 24, 2021</td>\n",
              "      <td>2021</td>\n",
              "      <td>TV-MA</td>\n",
              "      <td>1 Season</td>\n",
              "      <td>Docuseries, Reality TV</td>\n",
              "      <td>Feuds, flirtations and toilet talk go down amo...</td>\n",
              "    </tr>\n",
              "    <tr>\n",
              "      <th>4</th>\n",
              "      <td>s5</td>\n",
              "      <td>TV Show</td>\n",
              "      <td>Kota Factory</td>\n",
              "      <td>NaN</td>\n",
              "      <td>Mayur More, Jitendra Kumar, Ranjan Raj, Alam K...</td>\n",
              "      <td>India</td>\n",
              "      <td>September 24, 2021</td>\n",
              "      <td>2021</td>\n",
              "      <td>TV-MA</td>\n",
              "      <td>2 Seasons</td>\n",
              "      <td>International TV Shows, Romantic TV Shows, TV ...</td>\n",
              "      <td>In a city of coaching centers known to train I...</td>\n",
              "    </tr>\n",
              "  </tbody>\n",
              "</table>\n",
              "</div>\n",
              "      <button class=\"colab-df-convert\" onclick=\"convertToInteractive('df-e2eabfea-38d5-4f30-8f33-f1bff3ce887c')\"\n",
              "              title=\"Convert this dataframe to an interactive table.\"\n",
              "              style=\"display:none;\">\n",
              "        \n",
              "  <svg xmlns=\"http://www.w3.org/2000/svg\" height=\"24px\"viewBox=\"0 0 24 24\"\n",
              "       width=\"24px\">\n",
              "    <path d=\"M0 0h24v24H0V0z\" fill=\"none\"/>\n",
              "    <path d=\"M18.56 5.44l.94 2.06.94-2.06 2.06-.94-2.06-.94-.94-2.06-.94 2.06-2.06.94zm-11 1L8.5 8.5l.94-2.06 2.06-.94-2.06-.94L8.5 2.5l-.94 2.06-2.06.94zm10 10l.94 2.06.94-2.06 2.06-.94-2.06-.94-.94-2.06-.94 2.06-2.06.94z\"/><path d=\"M17.41 7.96l-1.37-1.37c-.4-.4-.92-.59-1.43-.59-.52 0-1.04.2-1.43.59L10.3 9.45l-7.72 7.72c-.78.78-.78 2.05 0 2.83L4 21.41c.39.39.9.59 1.41.59.51 0 1.02-.2 1.41-.59l7.78-7.78 2.81-2.81c.8-.78.8-2.07 0-2.86zM5.41 20L4 18.59l7.72-7.72 1.47 1.35L5.41 20z\"/>\n",
              "  </svg>\n",
              "      </button>\n",
              "      \n",
              "  <style>\n",
              "    .colab-df-container {\n",
              "      display:flex;\n",
              "      flex-wrap:wrap;\n",
              "      gap: 12px;\n",
              "    }\n",
              "\n",
              "    .colab-df-convert {\n",
              "      background-color: #E8F0FE;\n",
              "      border: none;\n",
              "      border-radius: 50%;\n",
              "      cursor: pointer;\n",
              "      display: none;\n",
              "      fill: #1967D2;\n",
              "      height: 32px;\n",
              "      padding: 0 0 0 0;\n",
              "      width: 32px;\n",
              "    }\n",
              "\n",
              "    .colab-df-convert:hover {\n",
              "      background-color: #E2EBFA;\n",
              "      box-shadow: 0px 1px 2px rgba(60, 64, 67, 0.3), 0px 1px 3px 1px rgba(60, 64, 67, 0.15);\n",
              "      fill: #174EA6;\n",
              "    }\n",
              "\n",
              "    [theme=dark] .colab-df-convert {\n",
              "      background-color: #3B4455;\n",
              "      fill: #D2E3FC;\n",
              "    }\n",
              "\n",
              "    [theme=dark] .colab-df-convert:hover {\n",
              "      background-color: #434B5C;\n",
              "      box-shadow: 0px 1px 3px 1px rgba(0, 0, 0, 0.15);\n",
              "      filter: drop-shadow(0px 1px 2px rgba(0, 0, 0, 0.3));\n",
              "      fill: #FFFFFF;\n",
              "    }\n",
              "  </style>\n",
              "\n",
              "      <script>\n",
              "        const buttonEl =\n",
              "          document.querySelector('#df-e2eabfea-38d5-4f30-8f33-f1bff3ce887c button.colab-df-convert');\n",
              "        buttonEl.style.display =\n",
              "          google.colab.kernel.accessAllowed ? 'block' : 'none';\n",
              "\n",
              "        async function convertToInteractive(key) {\n",
              "          const element = document.querySelector('#df-e2eabfea-38d5-4f30-8f33-f1bff3ce887c');\n",
              "          const dataTable =\n",
              "            await google.colab.kernel.invokeFunction('convertToInteractive',\n",
              "                                                     [key], {});\n",
              "          if (!dataTable) return;\n",
              "\n",
              "          const docLinkHtml = 'Like what you see? Visit the ' +\n",
              "            '<a target=\"_blank\" href=https://colab.research.google.com/notebooks/data_table.ipynb>data table notebook</a>'\n",
              "            + ' to learn more about interactive tables.';\n",
              "          element.innerHTML = '';\n",
              "          dataTable['output_type'] = 'display_data';\n",
              "          await google.colab.output.renderOutput(dataTable, element);\n",
              "          const docLink = document.createElement('div');\n",
              "          docLink.innerHTML = docLinkHtml;\n",
              "          element.appendChild(docLink);\n",
              "        }\n",
              "      </script>\n",
              "    </div>\n",
              "  </div>\n",
              "  "
            ]
          },
          "metadata": {},
          "execution_count": 559
        }
      ]
    },
    {
      "cell_type": "markdown",
      "source": [
        "The dataset lists the TV shows and movies released on Netflix, an American \n",
        "subscription streaming service.\n",
        "\n",
        "*   The data gives details of cast, director, duration etc. and spans across different countries and years\n",
        "*   **The goal of this Exploratory Data Analysis is to identify patterns and generate insights that can help Netflix understand which type of shows/movies to produce and how to increase footprint globally**\n",
        "\n",
        "\n",
        "\n"
      ],
      "metadata": {
        "id": "XORvKHc9NkWY"
      }
    },
    {
      "cell_type": "code",
      "source": [],
      "metadata": {
        "id": "dGxH8DWHPOWo"
      },
      "execution_count": null,
      "outputs": []
    },
    {
      "cell_type": "markdown",
      "source": [
        "**2. Observations**"
      ],
      "metadata": {
        "id": "SvX8Q8IRPIVH"
      }
    },
    {
      "cell_type": "code",
      "source": [
        "df.info()"
      ],
      "metadata": {
        "colab": {
          "base_uri": "https://localhost:8080/"
        },
        "id": "z7En4syQOLzA",
        "outputId": "04d26b67-5e07-4859-c04c-f6a1bd7dcd09"
      },
      "execution_count": null,
      "outputs": [
        {
          "output_type": "stream",
          "name": "stdout",
          "text": [
            "<class 'pandas.core.frame.DataFrame'>\n",
            "RangeIndex: 8807 entries, 0 to 8806\n",
            "Data columns (total 12 columns):\n",
            " #   Column        Non-Null Count  Dtype \n",
            "---  ------        --------------  ----- \n",
            " 0   show_id       8807 non-null   object\n",
            " 1   type          8807 non-null   object\n",
            " 2   title         8807 non-null   object\n",
            " 3   director      6173 non-null   object\n",
            " 4   cast          7982 non-null   object\n",
            " 5   country       7976 non-null   object\n",
            " 6   date_added    8797 non-null   object\n",
            " 7   release_year  8807 non-null   int64 \n",
            " 8   rating        8803 non-null   object\n",
            " 9   duration      8804 non-null   object\n",
            " 10  listed_in     8807 non-null   object\n",
            " 11  description   8807 non-null   object\n",
            "dtypes: int64(1), object(11)\n",
            "memory usage: 825.8+ KB\n"
          ]
        }
      ]
    },
    {
      "cell_type": "markdown",
      "source": [
        "**A quick scan of the data gives the following observations.**\n",
        "\n",
        "**1. The data has 8807 rows and 12 columns with 11 object and 1 int datatype**\n",
        "\n",
        "**2. Most of the columns have categorical data**\n",
        "\n",
        "**3. Half of the columns have missing data** \n",
        "\n",
        "**4. The column, date_added, is of the object data type and needs to be converted to date-time format**\n",
        "\n",
        "**5. The duration is represented in different metrics**"
      ],
      "metadata": {
        "id": "Fn1ddTuGOzOS"
      }
    },
    {
      "cell_type": "code",
      "source": [
        "df[\"director\"].head(10)"
      ],
      "metadata": {
        "colab": {
          "base_uri": "https://localhost:8080/"
        },
        "id": "ek3E36gAO7hL",
        "outputId": "98d24ec9-7b5e-4325-cedd-5c41caeaa160"
      },
      "execution_count": null,
      "outputs": [
        {
          "output_type": "execute_result",
          "data": {
            "text/plain": [
              "0                  Kirsten Johnson\n",
              "1                              NaN\n",
              "2                  Julien Leclercq\n",
              "3                              NaN\n",
              "4                              NaN\n",
              "5                    Mike Flanagan\n",
              "6    Robert Cullen, José Luis Ucha\n",
              "7                     Haile Gerima\n",
              "8                  Andy Devonshire\n",
              "9                   Theodore Melfi\n",
              "Name: director, dtype: object"
            ]
          },
          "metadata": {},
          "execution_count": 561
        }
      ]
    },
    {
      "cell_type": "markdown",
      "source": [
        "**5. Columns like director, cast, country and listed_in have nested values which need to be separated for effective analysis**"
      ],
      "metadata": {
        "id": "z6BO936fPRn7"
      }
    },
    {
      "cell_type": "code",
      "source": [
        "# Checking for duplicate and nan values in title and show_id columns\n",
        "print(df[\"title\"].duplicated().sum())\n",
        "print(df[\"show_id\"].duplicated().sum())\n",
        "print(df[\"title\"].isna().sum())\n",
        "print(df[\"show_id\"].isna().sum())"
      ],
      "metadata": {
        "colab": {
          "base_uri": "https://localhost:8080/"
        },
        "id": "SXzCla6xPiBI",
        "outputId": "8eae8ac8-0d08-4085-8076-78eb6a1b9afb"
      },
      "execution_count": null,
      "outputs": [
        {
          "output_type": "stream",
          "name": "stdout",
          "text": [
            "0\n",
            "0\n",
            "0\n",
            "0\n"
          ]
        }
      ]
    },
    {
      "cell_type": "markdown",
      "source": [
        "**6. The rows have unique show_id and title**"
      ],
      "metadata": {
        "id": "BJV-fNyqPquP"
      }
    },
    {
      "cell_type": "code",
      "source": [
        "# Find percentage of missing values\n",
        "df.isna().sum()/len(df)*100"
      ],
      "metadata": {
        "colab": {
          "base_uri": "https://localhost:8080/"
        },
        "id": "t0OQkdc4PuAH",
        "outputId": "7b15e7fa-a050-48bb-b429-253cef745929"
      },
      "execution_count": null,
      "outputs": [
        {
          "output_type": "execute_result",
          "data": {
            "text/plain": [
              "show_id          0.000000\n",
              "type             0.000000\n",
              "title            0.000000\n",
              "director        29.908028\n",
              "cast             9.367549\n",
              "country          9.435676\n",
              "date_added       0.113546\n",
              "release_year     0.000000\n",
              "rating           0.045418\n",
              "duration         0.034064\n",
              "listed_in        0.000000\n",
              "description      0.000000\n",
              "dtype: float64"
            ]
          },
          "metadata": {},
          "execution_count": 563
        }
      ]
    },
    {
      "cell_type": "markdown",
      "source": [
        "**7. director column has a high percentage of missing values followed by country and cast**"
      ],
      "metadata": {
        "id": "z22rf6CCRKep"
      }
    },
    {
      "cell_type": "code",
      "source": [
        "df.describe()"
      ],
      "metadata": {
        "colab": {
          "base_uri": "https://localhost:8080/",
          "height": 300
        },
        "id": "XmjbmOC_RX7f",
        "outputId": "023b31a8-8482-45f8-af7c-51f13d996651"
      },
      "execution_count": null,
      "outputs": [
        {
          "output_type": "execute_result",
          "data": {
            "text/plain": [
              "       release_year\n",
              "count   8807.000000\n",
              "mean    2014.180198\n",
              "std        8.819312\n",
              "min     1925.000000\n",
              "25%     2013.000000\n",
              "50%     2017.000000\n",
              "75%     2019.000000\n",
              "max     2021.000000"
            ],
            "text/html": [
              "\n",
              "  <div id=\"df-b07a26ce-5db3-4fcb-9a49-4b1ae182b070\">\n",
              "    <div class=\"colab-df-container\">\n",
              "      <div>\n",
              "<style scoped>\n",
              "    .dataframe tbody tr th:only-of-type {\n",
              "        vertical-align: middle;\n",
              "    }\n",
              "\n",
              "    .dataframe tbody tr th {\n",
              "        vertical-align: top;\n",
              "    }\n",
              "\n",
              "    .dataframe thead th {\n",
              "        text-align: right;\n",
              "    }\n",
              "</style>\n",
              "<table border=\"1\" class=\"dataframe\">\n",
              "  <thead>\n",
              "    <tr style=\"text-align: right;\">\n",
              "      <th></th>\n",
              "      <th>release_year</th>\n",
              "    </tr>\n",
              "  </thead>\n",
              "  <tbody>\n",
              "    <tr>\n",
              "      <th>count</th>\n",
              "      <td>8807.000000</td>\n",
              "    </tr>\n",
              "    <tr>\n",
              "      <th>mean</th>\n",
              "      <td>2014.180198</td>\n",
              "    </tr>\n",
              "    <tr>\n",
              "      <th>std</th>\n",
              "      <td>8.819312</td>\n",
              "    </tr>\n",
              "    <tr>\n",
              "      <th>min</th>\n",
              "      <td>1925.000000</td>\n",
              "    </tr>\n",
              "    <tr>\n",
              "      <th>25%</th>\n",
              "      <td>2013.000000</td>\n",
              "    </tr>\n",
              "    <tr>\n",
              "      <th>50%</th>\n",
              "      <td>2017.000000</td>\n",
              "    </tr>\n",
              "    <tr>\n",
              "      <th>75%</th>\n",
              "      <td>2019.000000</td>\n",
              "    </tr>\n",
              "    <tr>\n",
              "      <th>max</th>\n",
              "      <td>2021.000000</td>\n",
              "    </tr>\n",
              "  </tbody>\n",
              "</table>\n",
              "</div>\n",
              "      <button class=\"colab-df-convert\" onclick=\"convertToInteractive('df-b07a26ce-5db3-4fcb-9a49-4b1ae182b070')\"\n",
              "              title=\"Convert this dataframe to an interactive table.\"\n",
              "              style=\"display:none;\">\n",
              "        \n",
              "  <svg xmlns=\"http://www.w3.org/2000/svg\" height=\"24px\"viewBox=\"0 0 24 24\"\n",
              "       width=\"24px\">\n",
              "    <path d=\"M0 0h24v24H0V0z\" fill=\"none\"/>\n",
              "    <path d=\"M18.56 5.44l.94 2.06.94-2.06 2.06-.94-2.06-.94-.94-2.06-.94 2.06-2.06.94zm-11 1L8.5 8.5l.94-2.06 2.06-.94-2.06-.94L8.5 2.5l-.94 2.06-2.06.94zm10 10l.94 2.06.94-2.06 2.06-.94-2.06-.94-.94-2.06-.94 2.06-2.06.94z\"/><path d=\"M17.41 7.96l-1.37-1.37c-.4-.4-.92-.59-1.43-.59-.52 0-1.04.2-1.43.59L10.3 9.45l-7.72 7.72c-.78.78-.78 2.05 0 2.83L4 21.41c.39.39.9.59 1.41.59.51 0 1.02-.2 1.41-.59l7.78-7.78 2.81-2.81c.8-.78.8-2.07 0-2.86zM5.41 20L4 18.59l7.72-7.72 1.47 1.35L5.41 20z\"/>\n",
              "  </svg>\n",
              "      </button>\n",
              "      \n",
              "  <style>\n",
              "    .colab-df-container {\n",
              "      display:flex;\n",
              "      flex-wrap:wrap;\n",
              "      gap: 12px;\n",
              "    }\n",
              "\n",
              "    .colab-df-convert {\n",
              "      background-color: #E8F0FE;\n",
              "      border: none;\n",
              "      border-radius: 50%;\n",
              "      cursor: pointer;\n",
              "      display: none;\n",
              "      fill: #1967D2;\n",
              "      height: 32px;\n",
              "      padding: 0 0 0 0;\n",
              "      width: 32px;\n",
              "    }\n",
              "\n",
              "    .colab-df-convert:hover {\n",
              "      background-color: #E2EBFA;\n",
              "      box-shadow: 0px 1px 2px rgba(60, 64, 67, 0.3), 0px 1px 3px 1px rgba(60, 64, 67, 0.15);\n",
              "      fill: #174EA6;\n",
              "    }\n",
              "\n",
              "    [theme=dark] .colab-df-convert {\n",
              "      background-color: #3B4455;\n",
              "      fill: #D2E3FC;\n",
              "    }\n",
              "\n",
              "    [theme=dark] .colab-df-convert:hover {\n",
              "      background-color: #434B5C;\n",
              "      box-shadow: 0px 1px 3px 1px rgba(0, 0, 0, 0.15);\n",
              "      filter: drop-shadow(0px 1px 2px rgba(0, 0, 0, 0.3));\n",
              "      fill: #FFFFFF;\n",
              "    }\n",
              "  </style>\n",
              "\n",
              "      <script>\n",
              "        const buttonEl =\n",
              "          document.querySelector('#df-b07a26ce-5db3-4fcb-9a49-4b1ae182b070 button.colab-df-convert');\n",
              "        buttonEl.style.display =\n",
              "          google.colab.kernel.accessAllowed ? 'block' : 'none';\n",
              "\n",
              "        async function convertToInteractive(key) {\n",
              "          const element = document.querySelector('#df-b07a26ce-5db3-4fcb-9a49-4b1ae182b070');\n",
              "          const dataTable =\n",
              "            await google.colab.kernel.invokeFunction('convertToInteractive',\n",
              "                                                     [key], {});\n",
              "          if (!dataTable) return;\n",
              "\n",
              "          const docLinkHtml = 'Like what you see? Visit the ' +\n",
              "            '<a target=\"_blank\" href=https://colab.research.google.com/notebooks/data_table.ipynb>data table notebook</a>'\n",
              "            + ' to learn more about interactive tables.';\n",
              "          element.innerHTML = '';\n",
              "          dataTable['output_type'] = 'display_data';\n",
              "          await google.colab.output.renderOutput(dataTable, element);\n",
              "          const docLink = document.createElement('div');\n",
              "          docLink.innerHTML = docLinkHtml;\n",
              "          element.appendChild(docLink);\n",
              "        }\n",
              "      </script>\n",
              "    </div>\n",
              "  </div>\n",
              "  "
            ]
          },
          "metadata": {},
          "execution_count": 564
        }
      ]
    },
    {
      "cell_type": "markdown",
      "source": [
        "**8. The statistical analysis of release_year reveals that there are movies/TV Shows released as early as 1925 and latest in 2021.**\n",
        "\n",
        "**9. 50% of content on Netflix was released before 2017 and the remaining 50% in the next 5 years**"
      ],
      "metadata": {
        "id": "8E8WZ3GqR1zX"
      }
    },
    {
      "cell_type": "markdown",
      "source": [
        "**3. Univariate analysis**"
      ],
      "metadata": {
        "id": "kHMegxsRUXCa"
      }
    },
    {
      "cell_type": "code",
      "source": [
        "df[\"type\"].value_counts()/len(df[\"type\"])*100"
      ],
      "metadata": {
        "colab": {
          "base_uri": "https://localhost:8080/"
        },
        "id": "tTuF9OkDcf3P",
        "outputId": "9edb5f66-660b-42b2-82cb-1d60b8ae478d"
      },
      "execution_count": null,
      "outputs": [
        {
          "output_type": "execute_result",
          "data": {
            "text/plain": [
              "Movie      69.615079\n",
              "TV Show    30.384921\n",
              "Name: type, dtype: float64"
            ]
          },
          "metadata": {},
          "execution_count": 565
        }
      ]
    },
    {
      "cell_type": "code",
      "source": [
        "sns.countplot(data=df,x=df[\"type\"])\n",
        "plt.title(\"Comparison of Movies and TV Shows\")\n",
        "plt.show()"
      ],
      "metadata": {
        "colab": {
          "base_uri": "https://localhost:8080/",
          "height": 295
        },
        "id": "UakHuC7pUfd2",
        "outputId": "34d801db-b7fc-48a3-96bb-3b85085804e3"
      },
      "execution_count": null,
      "outputs": [
        {
          "output_type": "display_data",
          "data": {
            "text/plain": [
              "<Figure size 432x288 with 1 Axes>"
            ],
            "image/png": "[encoded data removed]"
          },
          "metadata": {
            "needs_background": "light"
          }
        }
      ]
    },
    {
      "cell_type": "code",
      "source": [
        "df[\"rating\"].replace(to_replace=[\"74 min\",\"84 min\",\"66 min\"],value=np.nan,inplace=True)"
      ],
      "metadata": {
        "id": "WmIGLEJkWIsD"
      },
      "execution_count": null,
      "outputs": []
    },
    {
      "cell_type": "code",
      "source": [
        "fig,ax=plt.subplots(figsize=(10,5))\n",
        "sns.countplot(data=df,x=df[\"rating\"],hue=df[\"type\"])\n",
        "plt.title(\"Frequency of Ratings\")\n",
        "plt.show()"
      ],
      "metadata": {
        "colab": {
          "base_uri": "https://localhost:8080/",
          "height": 350
        },
        "id": "l5nIxw0SWo7P",
        "outputId": "84b5ef56-0b84-4416-bcb7-7d7d93523f5b"
      },
      "execution_count": null,
      "outputs": [
        {
          "output_type": "display_data",
          "data": {
            "text/plain": [
              "<Figure size 720x360 with 1 Axes>"
            ],
            "image/png": "[encoded data removed]"
          },
          "metadata": {
            "needs_background": "light"
          }
        }
      ]
    },
    {
      "cell_type": "markdown",
      "source": [
        "1. Netflix has nearly 70% of its content as Movies and remaining 30% as TV shows\n",
        "2. Majority of Netflix's Movies and TV shows are aimed at Mature Audience(TV-MA) followed by teenagers(TV-14)\n"
      ],
      "metadata": {
        "id": "qnYQeZd2gg-P"
      }
    },
    {
      "cell_type": "code",
      "source": [
        "# % of movies that were released before 2010\n",
        "df[df[\"release_year\"]<2010][\"title\"].count()/len(df[\"title\"])*100"
      ],
      "metadata": {
        "colab": {
          "base_uri": "https://localhost:8080/"
        },
        "id": "AD9XFw3shVkF",
        "outputId": "18fb78ac-523d-482b-d9f1-358c97a8e399"
      },
      "execution_count": null,
      "outputs": [
        {
          "output_type": "execute_result",
          "data": {
            "text/plain": [
              "15.158396729873964"
            ]
          },
          "metadata": {},
          "execution_count": 569
        }
      ]
    },
    {
      "cell_type": "code",
      "source": [
        "fig,ax=plt.subplots(figsize=(20,5))\n",
        "sns.histplot(data=df,x=df[\"release_year\"],kde=True)\n",
        "plt.title(\"Movie/TV Show Release trends across years\")\n",
        "plt.show()"
      ],
      "metadata": {
        "colab": {
          "base_uri": "https://localhost:8080/",
          "height": 351
        },
        "id": "-BKgTA3wX2LQ",
        "outputId": "3fb8727c-dcbd-44c2-c7ba-cf08f1c47afe"
      },
      "execution_count": null,
      "outputs": [
        {
          "output_type": "display_data",
          "data": {
            "text/plain": [
              "<Figure size 1440x360 with 1 Axes>"
            ],
            "image/png": "[encoded data removed]"
          },
          "metadata": {
            "needs_background": "light"
          }
        }
      ]
    },
    {
      "cell_type": "code",
      "source": [
        "# Changing datatype of date_added column\n",
        "df[\"date_added\"]=pd.to_datetime(df[\"date_added\"])"
      ],
      "metadata": {
        "id": "j3aY04JAfC8R"
      },
      "execution_count": null,
      "outputs": []
    },
    {
      "cell_type": "code",
      "source": [
        "fig,ax=plt.subplots(figsize=(10,5))\n",
        "sns.countplot(data=df,x=df[\"date_added\"].dt.year,hue=df[\"type\"])\n",
        "plt.title(\"Frequency of content added across years\")\n",
        "plt.show()"
      ],
      "metadata": {
        "colab": {
          "base_uri": "https://localhost:8080/",
          "height": 351
        },
        "id": "ijGDRWoOflW-",
        "outputId": "884cec8e-7972-406c-cf03-8f2007122403"
      },
      "execution_count": null,
      "outputs": [
        {
          "output_type": "display_data",
          "data": {
            "text/plain": [
              "<Figure size 720x360 with 1 Axes>"
            ],
            "image/png": "[encoded data removed]"
          },
          "metadata": {
            "needs_background": "light"
          }
        }
      ]
    },
    {
      "cell_type": "markdown",
      "source": [
        "3. Netflix focuses on latest movies and TV shows more, with movies released before 2010 only making 15% of the total\n",
        "4. The maximum amount of content released was in 2018 and it saw a sharp decline post that.\n",
        "5. The content added on Netflix also sees a downward trend after 2019 with a steeper slope for movies than TV shows"
      ],
      "metadata": {
        "id": "Ur33m2oTgYS6"
      }
    },
    {
      "cell_type": "markdown",
      "source": [
        "**4. Data Preprocessing**"
      ],
      "metadata": {
        "id": "MXo6vYz7iGLm"
      }
    },
    {
      "cell_type": "markdown",
      "source": [
        "**2.1 Duration column**"
      ],
      "metadata": {
        "id": "WyMiCCl4i_DL"
      }
    },
    {
      "cell_type": "code",
      "source": [
        "# Splitting the duration into 2 columns to separate out minutes and seasons\n",
        "value=df[\"duration\"].apply(lambda x: str(x).split()).tolist()\n",
        "# Creating a new dataframe with value and reset index\n",
        "df_new=pd.DataFrame(value,index=df[\"title\"],columns=[\"duration\",\"duration_metric\"])\n",
        "df_new.reset_index(inplace=True)\n",
        "\n",
        "# Drop duration column from df and merge it with new dataframe\n",
        "df.drop(columns=[\"duration\"],inplace=True)\n",
        "df=df.merge(df_new,on=\"title\")"
      ],
      "metadata": {
        "id": "VhnhAVyoiL2z"
      },
      "execution_count": null,
      "outputs": []
    },
    {
      "cell_type": "code",
      "source": [
        "# Finding values of duration metric\n",
        "df[\"duration_metric\"].value_counts()"
      ],
      "metadata": {
        "colab": {
          "base_uri": "https://localhost:8080/"
        },
        "id": "16-hY0hQkC07",
        "outputId": "af811710-5cb2-4749-99ec-d91ab96fc63d"
      },
      "execution_count": null,
      "outputs": [
        {
          "output_type": "execute_result",
          "data": {
            "text/plain": [
              "min        6128\n",
              "Season     1793\n",
              "Seasons     883\n",
              "Name: duration_metric, dtype: int64"
            ]
          },
          "metadata": {},
          "execution_count": 574
        }
      ]
    },
    {
      "cell_type": "code",
      "source": [
        "# Replacing Seasons with Season for effective analysis\n",
        "df[\"duration_metric\"].replace(to_replace=\"Seasons\", value=\"Season\",inplace=True)\n",
        "df[\"duration_metric\"].value_counts()"
      ],
      "metadata": {
        "colab": {
          "base_uri": "https://localhost:8080/"
        },
        "id": "iQv81woskFC2",
        "outputId": "5a3faeb6-d4c2-43ac-80e2-41a1053afaa4"
      },
      "execution_count": null,
      "outputs": [
        {
          "output_type": "execute_result",
          "data": {
            "text/plain": [
              "min       6128\n",
              "Season    2676\n",
              "Name: duration_metric, dtype: int64"
            ]
          },
          "metadata": {},
          "execution_count": 575
        }
      ]
    },
    {
      "cell_type": "code",
      "source": [
        "# Converting duration to float datatype\n",
        "df[\"duration\"].replace(to_replace=\"nan\", value=np.nan,inplace=True)\n",
        "df[\"duration\"]=df[\"duration\"].astype(\"float32\")"
      ],
      "metadata": {
        "id": "sVLXuJoZkJMb"
      },
      "execution_count": null,
      "outputs": []
    },
    {
      "cell_type": "markdown",
      "source": [
        "**2.2 Removing Nested values**"
      ],
      "metadata": {
        "id": "9NcXd4JMmrb_"
      }
    },
    {
      "cell_type": "code",
      "source": [
        "# Splitting the values in cast column in the variable value1 \n",
        "value1=df['cast'].apply(lambda x: str(x).split(', ')).tolist() \n",
        "# Updating the title column as index and converting it to a DataFrame\n",
        "df_new=pd.DataFrame(value1,index=df['title']) \n",
        "\n",
        "# Melting the columns\n",
        "df_new=df_new.melt(ignore_index=False,value_name=\"cast\")\n",
        "# Drop the variable column, reset index and drop None values\n",
        "df_new.drop(columns=[\"variable\"],inplace=True)\n",
        "df_new=df_new.reset_index()\n",
        "df_new=df_new.replace(to_replace=\"None\", value=np.nan).dropna()\n",
        "\n",
        "# Dropping the cast column from original DataFrame\n",
        "df.drop(columns=[\"cast\"],inplace=True)\n",
        "\n",
        "# Merging new cast column with df\n",
        "df=df.merge(df_new,on=\"title\")"
      ],
      "metadata": {
        "id": "sabjoannm0yl"
      },
      "execution_count": null,
      "outputs": []
    },
    {
      "cell_type": "code",
      "source": [
        "# Removing nested values for director column\n",
        "value1=df[\"director\"].apply(lambda x:str(x).split(\", \")).tolist()\n",
        "df_new=pd.DataFrame(value1,index=df[\"title\"])\n",
        "\n",
        "# Melting the columns\n",
        "df_new=df_new.melt(ignore_index=False,value_name=\"director\")\n",
        "\n",
        "# Drop variable column\n",
        "df_new.drop(columns=[\"variable\"],inplace=True)\n",
        "\n",
        "# Reset index, drop None values and drop duplicates\n",
        "df_new.reset_index(inplace=True)\n",
        "df_new=df_new.replace(to_replace=\"None\",value=np.nan).dropna()\n",
        "df_new.drop_duplicates(inplace=True)\n",
        "\n",
        "# Drop director column from df and merge with new dataframe\n",
        "df.drop(columns=[\"director\"],inplace=True)\n",
        "df=df.merge(df_new,on=\"title\")"
      ],
      "metadata": {
        "id": "tZFQ13lVnBM7"
      },
      "execution_count": null,
      "outputs": []
    },
    {
      "cell_type": "code",
      "source": [
        "# Removing nested values for listed_in column\n",
        "value1=df[\"listed_in\"].apply(lambda x:str(x).split(\", \")).tolist()\n",
        "df_new=pd.DataFrame(value1,index=df[\"title\"])\n",
        "\n",
        "# Stacking all the column values and creating a dataframe\n",
        "df_new=df_new.stack()\n",
        "df_new=pd.DataFrame(df_new)\n",
        "\n",
        "# Reset index \n",
        "df_new.reset_index(inplace=True)\n",
        "\n",
        "# Drop level_1 column and update column names \n",
        "df_new.drop(columns=[\"level_1\"],inplace=True)\n",
        "df_new.columns=[\"title\",\"listed_in\"]\n",
        "\n",
        "# Drop duplicate values\n",
        "df_new.drop_duplicates(inplace=True)\n",
        "\n",
        "# Drop listed_in column and merge with new df\n",
        "df.drop(columns=[\"listed_in\"],inplace=True)\n",
        "df=df.merge(df_new,on=\"title\")"
      ],
      "metadata": {
        "id": "jyTE4_k3ngG_"
      },
      "execution_count": null,
      "outputs": []
    },
    {
      "cell_type": "code",
      "source": [
        "# Removing nested values for country column\n",
        "value1=df[\"country\"].apply(lambda x:str(x).split(\", \")).tolist()\n",
        "df_new=pd.DataFrame(value1,index=df[\"title\"])\n",
        "\n",
        "# Stacking all the column values and creating a dataframe\n",
        "df_new=df_new.stack()\n",
        "df_new=pd.DataFrame(df_new)\n",
        "\n",
        "# Reset index \n",
        "df_new.reset_index(inplace=True)\n",
        "\n",
        "# Drop level_1 column and update column names \n",
        "df_new.drop(columns=[\"level_1\"],inplace=True)\n",
        "df_new.columns=[\"title\",\"country\"]\n",
        "\n",
        "# Drop duplicate values\n",
        "df_new.drop_duplicates(inplace=True)\n",
        "\n",
        "# Drop country column in df and merge with new df\n",
        "df.drop(columns=[\"country\"],inplace=True)\n",
        "df=df.merge(df_new,on=\"title\")\n",
        "df.head()"
      ],
      "metadata": {
        "colab": {
          "base_uri": "https://localhost:8080/",
          "height": 354
        },
        "id": "8zCkBXhto1iw",
        "outputId": "cafbd3d1-3b05-4858-cd52-f3352c5be49a"
      },
      "execution_count": null,
      "outputs": [
        {
          "output_type": "execute_result",
          "data": {
            "text/plain": [
              "  show_id     type                 title date_added  release_year rating  \\\n",
              "0      s1    Movie  Dick Johnson Is Dead 2021-09-25          2020  PG-13   \n",
              "1      s2  TV Show         Blood & Water 2021-09-24          2021  TV-MA   \n",
              "2      s2  TV Show         Blood & Water 2021-09-24          2021  TV-MA   \n",
              "3      s2  TV Show         Blood & Water 2021-09-24          2021  TV-MA   \n",
              "4      s2  TV Show         Blood & Water 2021-09-24          2021  TV-MA   \n",
              "\n",
              "                                         description  duration  \\\n",
              "0  As her father nears the end of his life, filmm...      90.0   \n",
              "1  After crossing paths at a party, a Cape Town t...       2.0   \n",
              "2  After crossing paths at a party, a Cape Town t...       2.0   \n",
              "3  After crossing paths at a party, a Cape Town t...       2.0   \n",
              "4  After crossing paths at a party, a Cape Town t...       2.0   \n",
              "\n",
              "  duration_metric         cast         director               listed_in  \\\n",
              "0             min          nan  Kirsten Johnson           Documentaries   \n",
              "1          Season   Ama Qamata              nan  International TV Shows   \n",
              "2          Season   Ama Qamata              nan               TV Dramas   \n",
              "3          Season   Ama Qamata              nan            TV Mysteries   \n",
              "4          Season  Khosi Ngema              nan  International TV Shows   \n",
              "\n",
              "         country  \n",
              "0  United States  \n",
              "1   South Africa  \n",
              "2   South Africa  \n",
              "3   South Africa  \n",
              "4   South Africa  "
            ],
            "text/html": [
              "\n",
              "  <div id=\"df-102cfed7-80e4-4a26-893d-0ce1f8d0c3b8\">\n",
              "    <div class=\"colab-df-container\">\n",
              "      <div>\n",
              "<style scoped>\n",
              "    .dataframe tbody tr th:only-of-type {\n",
              "        vertical-align: middle;\n",
              "    }\n",
              "\n",
              "    .dataframe tbody tr th {\n",
              "        vertical-align: top;\n",
              "    }\n",
              "\n",
              "    .dataframe thead th {\n",
              "        text-align: right;\n",
              "    }\n",
              "</style>\n",
              "<table border=\"1\" class=\"dataframe\">\n",
              "  <thead>\n",
              "    <tr style=\"text-align: right;\">\n",
              "      <th></th>\n",
              "      <th>show_id</th>\n",
              "      <th>type</th>\n",
              "      <th>title</th>\n",
              "      <th>date_added</th>\n",
              "      <th>release_year</th>\n",
              "      <th>rating</th>\n",
              "      <th>description</th>\n",
              "      <th>duration</th>\n",
              "      <th>duration_metric</th>\n",
              "      <th>cast</th>\n",
              "      <th>director</th>\n",
              "      <th>listed_in</th>\n",
              "      <th>country</th>\n",
              "    </tr>\n",
              "  </thead>\n",
              "  <tbody>\n",
              "    <tr>\n",
              "      <th>0</th>\n",
              "      <td>s1</td>\n",
              "      <td>Movie</td>\n",
              "      <td>Dick Johnson Is Dead</td>\n",
              "      <td>2021-09-25</td>\n",
              "      <td>2020</td>\n",
              "      <td>PG-13</td>\n",
              "      <td>As her father nears the end of his life, filmm...</td>\n",
              "      <td>90.0</td>\n",
              "      <td>min</td>\n",
              "      <td>nan</td>\n",
              "      <td>Kirsten Johnson</td>\n",
              "      <td>Documentaries</td>\n",
              "      <td>United States</td>\n",
              "    </tr>\n",
              "    <tr>\n",
              "      <th>1</th>\n",
              "      <td>s2</td>\n",
              "      <td>TV Show</td>\n",
              "      <td>Blood &amp; Water</td>\n",
              "      <td>2021-09-24</td>\n",
              "      <td>2021</td>\n",
              "      <td>TV-MA</td>\n",
              "      <td>After crossing paths at a party, a Cape Town t...</td>\n",
              "      <td>2.0</td>\n",
              "      <td>Season</td>\n",
              "      <td>Ama Qamata</td>\n",
              "      <td>nan</td>\n",
              "      <td>International TV Shows</td>\n",
              "      <td>South Africa</td>\n",
              "    </tr>\n",
              "    <tr>\n",
              "      <th>2</th>\n",
              "      <td>s2</td>\n",
              "      <td>TV Show</td>\n",
              "      <td>Blood &amp; Water</td>\n",
              "      <td>2021-09-24</td>\n",
              "      <td>2021</td>\n",
              "      <td>TV-MA</td>\n",
              "      <td>After crossing paths at a party, a Cape Town t...</td>\n",
              "      <td>2.0</td>\n",
              "      <td>Season</td>\n",
              "      <td>Ama Qamata</td>\n",
              "      <td>nan</td>\n",
              "      <td>TV Dramas</td>\n",
              "      <td>South Africa</td>\n",
              "    </tr>\n",
              "    <tr>\n",
              "      <th>3</th>\n",
              "      <td>s2</td>\n",
              "      <td>TV Show</td>\n",
              "      <td>Blood &amp; Water</td>\n",
              "      <td>2021-09-24</td>\n",
              "      <td>2021</td>\n",
              "      <td>TV-MA</td>\n",
              "      <td>After crossing paths at a party, a Cape Town t...</td>\n",
              "      <td>2.0</td>\n",
              "      <td>Season</td>\n",
              "      <td>Ama Qamata</td>\n",
              "      <td>nan</td>\n",
              "      <td>TV Mysteries</td>\n",
              "      <td>South Africa</td>\n",
              "    </tr>\n",
              "    <tr>\n",
              "      <th>4</th>\n",
              "      <td>s2</td>\n",
              "      <td>TV Show</td>\n",
              "      <td>Blood &amp; Water</td>\n",
              "      <td>2021-09-24</td>\n",
              "      <td>2021</td>\n",
              "      <td>TV-MA</td>\n",
              "      <td>After crossing paths at a party, a Cape Town t...</td>\n",
              "      <td>2.0</td>\n",
              "      <td>Season</td>\n",
              "      <td>Khosi Ngema</td>\n",
              "      <td>nan</td>\n",
              "      <td>International TV Shows</td>\n",
              "      <td>South Africa</td>\n",
              "    </tr>\n",
              "  </tbody>\n",
              "</table>\n",
              "</div>\n",
              "      <button class=\"colab-df-convert\" onclick=\"convertToInteractive('df-102cfed7-80e4-4a26-893d-0ce1f8d0c3b8')\"\n",
              "              title=\"Convert this dataframe to an interactive table.\"\n",
              "              style=\"display:none;\">\n",
              "        \n",
              "  <svg xmlns=\"http://www.w3.org/2000/svg\" height=\"24px\"viewBox=\"0 0 24 24\"\n",
              "       width=\"24px\">\n",
              "    <path d=\"M0 0h24v24H0V0z\" fill=\"none\"/>\n",
              "    <path d=\"M18.56 5.44l.94 2.06.94-2.06 2.06-.94-2.06-.94-.94-2.06-.94 2.06-2.06.94zm-11 1L8.5 8.5l.94-2.06 2.06-.94-2.06-.94L8.5 2.5l-.94 2.06-2.06.94zm10 10l.94 2.06.94-2.06 2.06-.94-2.06-.94-.94-2.06-.94 2.06-2.06.94z\"/><path d=\"M17.41 7.96l-1.37-1.37c-.4-.4-.92-.59-1.43-.59-.52 0-1.04.2-1.43.59L10.3 9.45l-7.72 7.72c-.78.78-.78 2.05 0 2.83L4 21.41c.39.39.9.59 1.41.59.51 0 1.02-.2 1.41-.59l7.78-7.78 2.81-2.81c.8-.78.8-2.07 0-2.86zM5.41 20L4 18.59l7.72-7.72 1.47 1.35L5.41 20z\"/>\n",
              "  </svg>\n",
              "      </button>\n",
              "      \n",
              "  <style>\n",
              "    .colab-df-container {\n",
              "      display:flex;\n",
              "      flex-wrap:wrap;\n",
              "      gap: 12px;\n",
              "    }\n",
              "\n",
              "    .colab-df-convert {\n",
              "      background-color: #E8F0FE;\n",
              "      border: none;\n",
              "      border-radius: 50%;\n",
              "      cursor: pointer;\n",
              "      display: none;\n",
              "      fill: #1967D2;\n",
              "      height: 32px;\n",
              "      padding: 0 0 0 0;\n",
              "      width: 32px;\n",
              "    }\n",
              "\n",
              "    .colab-df-convert:hover {\n",
              "      background-color: #E2EBFA;\n",
              "      box-shadow: 0px 1px 2px rgba(60, 64, 67, 0.3), 0px 1px 3px 1px rgba(60, 64, 67, 0.15);\n",
              "      fill: #174EA6;\n",
              "    }\n",
              "\n",
              "    [theme=dark] .colab-df-convert {\n",
              "      background-color: #3B4455;\n",
              "      fill: #D2E3FC;\n",
              "    }\n",
              "\n",
              "    [theme=dark] .colab-df-convert:hover {\n",
              "      background-color: #434B5C;\n",
              "      box-shadow: 0px 1px 3px 1px rgba(0, 0, 0, 0.15);\n",
              "      filter: drop-shadow(0px 1px 2px rgba(0, 0, 0, 0.3));\n",
              "      fill: #FFFFFF;\n",
              "    }\n",
              "  </style>\n",
              "\n",
              "      <script>\n",
              "        const buttonEl =\n",
              "          document.querySelector('#df-102cfed7-80e4-4a26-893d-0ce1f8d0c3b8 button.colab-df-convert');\n",
              "        buttonEl.style.display =\n",
              "          google.colab.kernel.accessAllowed ? 'block' : 'none';\n",
              "\n",
              "        async function convertToInteractive(key) {\n",
              "          const element = document.querySelector('#df-102cfed7-80e4-4a26-893d-0ce1f8d0c3b8');\n",
              "          const dataTable =\n",
              "            await google.colab.kernel.invokeFunction('convertToInteractive',\n",
              "                                                     [key], {});\n",
              "          if (!dataTable) return;\n",
              "\n",
              "          const docLinkHtml = 'Like what you see? Visit the ' +\n",
              "            '<a target=\"_blank\" href=https://colab.research.google.com/notebooks/data_table.ipynb>data table notebook</a>'\n",
              "            + ' to learn more about interactive tables.';\n",
              "          element.innerHTML = '';\n",
              "          dataTable['output_type'] = 'display_data';\n",
              "          await google.colab.output.renderOutput(dataTable, element);\n",
              "          const docLink = document.createElement('div');\n",
              "          docLink.innerHTML = docLinkHtml;\n",
              "          element.appendChild(docLink);\n",
              "        }\n",
              "      </script>\n",
              "    </div>\n",
              "  </div>\n",
              "  "
            ]
          },
          "metadata": {},
          "execution_count": 580
        }
      ]
    },
    {
      "cell_type": "markdown",
      "source": [
        "**2.3 Fill missing values**"
      ],
      "metadata": {
        "id": "bmGAT3E2pI3D"
      }
    },
    {
      "cell_type": "code",
      "source": [
        "# Replace \"nan\" with np.nan\n",
        "df.replace(to_replace=\"nan\",value=np.nan,inplace=True)"
      ],
      "metadata": {
        "id": "iQ2XMZs4pim2"
      },
      "execution_count": null,
      "outputs": []
    },
    {
      "cell_type": "code",
      "source": [
        "# Find % of missing values\n",
        "df.isna().sum()/len(df)*100"
      ],
      "metadata": {
        "colab": {
          "base_uri": "https://localhost:8080/"
        },
        "id": "cY1lWixfp7Hs",
        "outputId": "dc28da01-bde4-4f42-9d68-b0ea8717c816"
      },
      "execution_count": null,
      "outputs": [
        {
          "output_type": "execute_result",
          "data": {
            "text/plain": [
              "show_id             0.000000\n",
              "type                0.000000\n",
              "title               0.000000\n",
              "date_added          0.078240\n",
              "release_year        0.000000\n",
              "rating              0.034663\n",
              "description         0.000000\n",
              "duration            0.001486\n",
              "duration_metric     0.001486\n",
              "cast                1.062676\n",
              "director           25.077869\n",
              "listed_in           0.000000\n",
              "country             5.891266\n",
              "dtype: float64"
            ]
          },
          "metadata": {},
          "execution_count": 582
        }
      ]
    },
    {
      "cell_type": "code",
      "source": [
        "# Imputing missing values in duration with mean after grouping by dependant column(type)\n",
        "df[\"duration\"]=df.groupby(\"type\")[\"duration\"].apply(lambda x : x.fillna(x.mean()))"
      ],
      "metadata": {
        "id": "DivlNcAOpntx"
      },
      "execution_count": null,
      "outputs": []
    },
    {
      "cell_type": "code",
      "source": [
        "# Imputing missing values in date_added with mode\n",
        "df[\"duration\"].fillna(df[\"duration\"].mode(),inplace=True)"
      ],
      "metadata": {
        "id": "vLFE6K3zYPWr"
      },
      "execution_count": null,
      "outputs": []
    },
    {
      "cell_type": "code",
      "source": [
        "# Imputing missing values of country with mode\n",
        "df[\"country\"]=df.groupby(\"type\")[\"country\"].apply(lambda x : x.fillna(x.mode().iloc[0]))"
      ],
      "metadata": {
        "id": "pW85NgMBrEDX"
      },
      "execution_count": null,
      "outputs": []
    },
    {
      "cell_type": "code",
      "source": [
        "# Replacing missing values in remaining columns with Not Known\n",
        "df.fillna(\"Not Known\",inplace=True)"
      ],
      "metadata": {
        "id": "9qGO3r_bqI3R"
      },
      "execution_count": null,
      "outputs": []
    },
    {
      "cell_type": "markdown",
      "source": [
        "**5. Univariate Analysis contd.**"
      ],
      "metadata": {
        "id": "mN8tGjlRrl0r"
      }
    },
    {
      "cell_type": "code",
      "source": [
        "df.head()"
      ],
      "metadata": {
        "colab": {
          "base_uri": "https://localhost:8080/",
          "height": 424
        },
        "id": "JcSeJllCrp7Z",
        "outputId": "006c9ae2-7dc8-430a-ad3b-feb1ee9e561e"
      },
      "execution_count": null,
      "outputs": [
        {
          "output_type": "execute_result",
          "data": {
            "text/plain": [
              "  show_id     type                 title           date_added  release_year  \\\n",
              "0      s1    Movie  Dick Johnson Is Dead  2021-09-25 00:00:00          2020   \n",
              "1      s2  TV Show         Blood & Water  2021-09-24 00:00:00          2021   \n",
              "2      s2  TV Show         Blood & Water  2021-09-24 00:00:00          2021   \n",
              "3      s2  TV Show         Blood & Water  2021-09-24 00:00:00          2021   \n",
              "4      s2  TV Show         Blood & Water  2021-09-24 00:00:00          2021   \n",
              "\n",
              "  rating                                        description  duration  \\\n",
              "0  PG-13  As her father nears the end of his life, filmm...      90.0   \n",
              "1  TV-MA  After crossing paths at a party, a Cape Town t...       2.0   \n",
              "2  TV-MA  After crossing paths at a party, a Cape Town t...       2.0   \n",
              "3  TV-MA  After crossing paths at a party, a Cape Town t...       2.0   \n",
              "4  TV-MA  After crossing paths at a party, a Cape Town t...       2.0   \n",
              "\n",
              "  duration_metric         cast         director               listed_in  \\\n",
              "0             min    Not Known  Kirsten Johnson           Documentaries   \n",
              "1          Season   Ama Qamata        Not Known  International TV Shows   \n",
              "2          Season   Ama Qamata        Not Known               TV Dramas   \n",
              "3          Season   Ama Qamata        Not Known            TV Mysteries   \n",
              "4          Season  Khosi Ngema        Not Known  International TV Shows   \n",
              "\n",
              "         country  \n",
              "0  United States  \n",
              "1   South Africa  \n",
              "2   South Africa  \n",
              "3   South Africa  \n",
              "4   South Africa  "
            ],
            "text/html": [
              "\n",
              "  <div id=\"df-c45ea624-29b8-4d08-87ea-78211e1b6457\">\n",
              "    <div class=\"colab-df-container\">\n",
              "      <div>\n",
              "<style scoped>\n",
              "    .dataframe tbody tr th:only-of-type {\n",
              "        vertical-align: middle;\n",
              "    }\n",
              "\n",
              "    .dataframe tbody tr th {\n",
              "        vertical-align: top;\n",
              "    }\n",
              "\n",
              "    .dataframe thead th {\n",
              "        text-align: right;\n",
              "    }\n",
              "</style>\n",
              "<table border=\"1\" class=\"dataframe\">\n",
              "  <thead>\n",
              "    <tr style=\"text-align: right;\">\n",
              "      <th></th>\n",
              "      <th>show_id</th>\n",
              "      <th>type</th>\n",
              "      <th>title</th>\n",
              "      <th>date_added</th>\n",
              "      <th>release_year</th>\n",
              "      <th>rating</th>\n",
              "      <th>description</th>\n",
              "      <th>duration</th>\n",
              "      <th>duration_metric</th>\n",
              "      <th>cast</th>\n",
              "      <th>director</th>\n",
              "      <th>listed_in</th>\n",
              "      <th>country</th>\n",
              "    </tr>\n",
              "  </thead>\n",
              "  <tbody>\n",
              "    <tr>\n",
              "      <th>0</th>\n",
              "      <td>s1</td>\n",
              "      <td>Movie</td>\n",
              "      <td>Dick Johnson Is Dead</td>\n",
              "      <td>2021-09-25 00:00:00</td>\n",
              "      <td>2020</td>\n",
              "      <td>PG-13</td>\n",
              "      <td>As her father nears the end of his life, filmm...</td>\n",
              "      <td>90.0</td>\n",
              "      <td>min</td>\n",
              "      <td>Not Known</td>\n",
              "      <td>Kirsten Johnson</td>\n",
              "      <td>Documentaries</td>\n",
              "      <td>United States</td>\n",
              "    </tr>\n",
              "    <tr>\n",
              "      <th>1</th>\n",
              "      <td>s2</td>\n",
              "      <td>TV Show</td>\n",
              "      <td>Blood &amp; Water</td>\n",
              "      <td>2021-09-24 00:00:00</td>\n",
              "      <td>2021</td>\n",
              "      <td>TV-MA</td>\n",
              "      <td>After crossing paths at a party, a Cape Town t...</td>\n",
              "      <td>2.0</td>\n",
              "      <td>Season</td>\n",
              "      <td>Ama Qamata</td>\n",
              "      <td>Not Known</td>\n",
              "      <td>International TV Shows</td>\n",
              "      <td>South Africa</td>\n",
              "    </tr>\n",
              "    <tr>\n",
              "      <th>2</th>\n",
              "      <td>s2</td>\n",
              "      <td>TV Show</td>\n",
              "      <td>Blood &amp; Water</td>\n",
              "      <td>2021-09-24 00:00:00</td>\n",
              "      <td>2021</td>\n",
              "      <td>TV-MA</td>\n",
              "      <td>After crossing paths at a party, a Cape Town t...</td>\n",
              "      <td>2.0</td>\n",
              "      <td>Season</td>\n",
              "      <td>Ama Qamata</td>\n",
              "      <td>Not Known</td>\n",
              "      <td>TV Dramas</td>\n",
              "      <td>South Africa</td>\n",
              "    </tr>\n",
              "    <tr>\n",
              "      <th>3</th>\n",
              "      <td>s2</td>\n",
              "      <td>TV Show</td>\n",
              "      <td>Blood &amp; Water</td>\n",
              "      <td>2021-09-24 00:00:00</td>\n",
              "      <td>2021</td>\n",
              "      <td>TV-MA</td>\n",
              "      <td>After crossing paths at a party, a Cape Town t...</td>\n",
              "      <td>2.0</td>\n",
              "      <td>Season</td>\n",
              "      <td>Ama Qamata</td>\n",
              "      <td>Not Known</td>\n",
              "      <td>TV Mysteries</td>\n",
              "      <td>South Africa</td>\n",
              "    </tr>\n",
              "    <tr>\n",
              "      <th>4</th>\n",
              "      <td>s2</td>\n",
              "      <td>TV Show</td>\n",
              "      <td>Blood &amp; Water</td>\n",
              "      <td>2021-09-24 00:00:00</td>\n",
              "      <td>2021</td>\n",
              "      <td>TV-MA</td>\n",
              "      <td>After crossing paths at a party, a Cape Town t...</td>\n",
              "      <td>2.0</td>\n",
              "      <td>Season</td>\n",
              "      <td>Khosi Ngema</td>\n",
              "      <td>Not Known</td>\n",
              "      <td>International TV Shows</td>\n",
              "      <td>South Africa</td>\n",
              "    </tr>\n",
              "  </tbody>\n",
              "</table>\n",
              "</div>\n",
              "      <button class=\"colab-df-convert\" onclick=\"convertToInteractive('df-c45ea624-29b8-4d08-87ea-78211e1b6457')\"\n",
              "              title=\"Convert this dataframe to an interactive table.\"\n",
              "              style=\"display:none;\">\n",
              "        \n",
              "  <svg xmlns=\"http://www.w3.org/2000/svg\" height=\"24px\"viewBox=\"0 0 24 24\"\n",
              "       width=\"24px\">\n",
              "    <path d=\"M0 0h24v24H0V0z\" fill=\"none\"/>\n",
              "    <path d=\"M18.56 5.44l.94 2.06.94-2.06 2.06-.94-2.06-.94-.94-2.06-.94 2.06-2.06.94zm-11 1L8.5 8.5l.94-2.06 2.06-.94-2.06-.94L8.5 2.5l-.94 2.06-2.06.94zm10 10l.94 2.06.94-2.06 2.06-.94-2.06-.94-.94-2.06-.94 2.06-2.06.94z\"/><path d=\"M17.41 7.96l-1.37-1.37c-.4-.4-.92-.59-1.43-.59-.52 0-1.04.2-1.43.59L10.3 9.45l-7.72 7.72c-.78.78-.78 2.05 0 2.83L4 21.41c.39.39.9.59 1.41.59.51 0 1.02-.2 1.41-.59l7.78-7.78 2.81-2.81c.8-.78.8-2.07 0-2.86zM5.41 20L4 18.59l7.72-7.72 1.47 1.35L5.41 20z\"/>\n",
              "  </svg>\n",
              "      </button>\n",
              "      \n",
              "  <style>\n",
              "    .colab-df-container {\n",
              "      display:flex;\n",
              "      flex-wrap:wrap;\n",
              "      gap: 12px;\n",
              "    }\n",
              "\n",
              "    .colab-df-convert {\n",
              "      background-color: #E8F0FE;\n",
              "      border: none;\n",
              "      border-radius: 50%;\n",
              "      cursor: pointer;\n",
              "      display: none;\n",
              "      fill: #1967D2;\n",
              "      height: 32px;\n",
              "      padding: 0 0 0 0;\n",
              "      width: 32px;\n",
              "    }\n",
              "\n",
              "    .colab-df-convert:hover {\n",
              "      background-color: #E2EBFA;\n",
              "      box-shadow: 0px 1px 2px rgba(60, 64, 67, 0.3), 0px 1px 3px 1px rgba(60, 64, 67, 0.15);\n",
              "      fill: #174EA6;\n",
              "    }\n",
              "\n",
              "    [theme=dark] .colab-df-convert {\n",
              "      background-color: #3B4455;\n",
              "      fill: #D2E3FC;\n",
              "    }\n",
              "\n",
              "    [theme=dark] .colab-df-convert:hover {\n",
              "      background-color: #434B5C;\n",
              "      box-shadow: 0px 1px 3px 1px rgba(0, 0, 0, 0.15);\n",
              "      filter: drop-shadow(0px 1px 2px rgba(0, 0, 0, 0.3));\n",
              "      fill: #FFFFFF;\n",
              "    }\n",
              "  </style>\n",
              "\n",
              "      <script>\n",
              "        const buttonEl =\n",
              "          document.querySelector('#df-c45ea624-29b8-4d08-87ea-78211e1b6457 button.colab-df-convert');\n",
              "        buttonEl.style.display =\n",
              "          google.colab.kernel.accessAllowed ? 'block' : 'none';\n",
              "\n",
              "        async function convertToInteractive(key) {\n",
              "          const element = document.querySelector('#df-c45ea624-29b8-4d08-87ea-78211e1b6457');\n",
              "          const dataTable =\n",
              "            await google.colab.kernel.invokeFunction('convertToInteractive',\n",
              "                                                     [key], {});\n",
              "          if (!dataTable) return;\n",
              "\n",
              "          const docLinkHtml = 'Like what you see? Visit the ' +\n",
              "            '<a target=\"_blank\" href=https://colab.research.google.com/notebooks/data_table.ipynb>data table notebook</a>'\n",
              "            + ' to learn more about interactive tables.';\n",
              "          element.innerHTML = '';\n",
              "          dataTable['output_type'] = 'display_data';\n",
              "          await google.colab.output.renderOutput(dataTable, element);\n",
              "          const docLink = document.createElement('div');\n",
              "          docLink.innerHTML = docLinkHtml;\n",
              "          element.appendChild(docLink);\n",
              "        }\n",
              "      </script>\n",
              "    </div>\n",
              "  </div>\n",
              "  "
            ]
          },
          "metadata": {},
          "execution_count": 587
        }
      ]
    },
    {
      "cell_type": "code",
      "source": [
        "a=df.groupby(\"country\")[\"title\"].nunique().sort_values(ascending=False)\n",
        "a=a[:10]"
      ],
      "metadata": {
        "id": "9v3YJgvAr9-_"
      },
      "execution_count": null,
      "outputs": []
    },
    {
      "cell_type": "code",
      "source": [
        "fig,ax=plt.subplots(figsize=(15,5))\n",
        "sns.barplot(a.index,a.values)\n",
        "plt.title(\"Top 10 countries with highest number of titles\")\n",
        "plt.ylabel(\"Titles\")\n",
        "plt.show()"
      ],
      "metadata": {
        "colab": {
          "base_uri": "https://localhost:8080/",
          "height": 405
        },
        "id": "Q-PKcH6SsMf6",
        "outputId": "ea54425a-bfac-4910-91b1-a6e9d7ad200f"
      },
      "execution_count": null,
      "outputs": [
        {
          "output_type": "stream",
          "name": "stderr",
          "text": [
            "/usr/local/lib/python3.7/dist-packages/seaborn/_decorators.py:43: FutureWarning: Pass the following variables as keyword args: x, y. From version 0.12, the only valid positional argument will be `data`, and passing other arguments without an explicit keyword will result in an error or misinterpretation.\n",
            "  FutureWarning\n"
          ]
        },
        {
          "output_type": "display_data",
          "data": {
            "text/plain": [
              "<Figure size 1080x360 with 1 Axes>"
            ],
            "image/png": "[encoded data removed]"
          },
          "metadata": {
            "needs_background": "light"
          }
        }
      ]
    },
    {
      "cell_type": "markdown",
      "source": [
        "6. United States has the highest amount of content created followed by India and United Kingdom"
      ],
      "metadata": {
        "id": "LIOYnZAtkWGf"
      }
    },
    {
      "cell_type": "markdown",
      "source": [
        "**6. Bivariate Analysis**"
      ],
      "metadata": {
        "id": "AVKu_8Vm67tR"
      }
    },
    {
      "cell_type": "code",
      "source": [
        "a=df[df[\"type\"]==\"Movie\"].groupby(\"title\")[\"duration\"].mean()\n",
        "sns.boxplot(x=a.values)\n",
        "plt.title(\"Mean duration of Movies\")\n",
        "plt.show()"
      ],
      "metadata": {
        "colab": {
          "base_uri": "https://localhost:8080/",
          "height": 281
        },
        "id": "Ibl9sJXltEPx",
        "outputId": "3b2a4abc-2892-48a2-9e25-986b2e622384"
      },
      "execution_count": null,
      "outputs": [
        {
          "output_type": "display_data",
          "data": {
            "text/plain": [
              "<Figure size 432x288 with 1 Axes>"
            ],
            "image/png": "[encoded data removed]"
          },
          "metadata": {
            "needs_background": "light"
          }
        }
      ]
    },
    {
      "cell_type": "code",
      "source": [
        "b=df[df[\"type\"]==\"TV Show\"].groupby(\"title\")[\"duration\"].mean()\n",
        "sns.histplot(b.values,bins=[0,5,20])\n",
        "plt.title(\"Distribution of duration - TV Shows\")\n",
        "plt.show()"
      ],
      "metadata": {
        "colab": {
          "base_uri": "https://localhost:8080/",
          "height": 281
        },
        "id": "Ce-3NEXbvCTz",
        "outputId": "33880b03-c8db-4583-8c91-1159e642020c"
      },
      "execution_count": null,
      "outputs": [
        {
          "output_type": "display_data",
          "data": {
            "text/plain": [
              "<Figure size 432x288 with 1 Axes>"
            ],
            "image/png": "[encoded data removed]"
          },
          "metadata": {
            "needs_background": "light"
          }
        }
      ]
    },
    {
      "cell_type": "markdown",
      "source": [
        "7. The mean duration of movies in Netflix is approximately 90 minutes\n",
        "8. Most TV shows have less than 5 Seasons and a very small proportion has between 5 and 20 Seasons"
      ],
      "metadata": {
        "id": "vfy4j0Iekzty"
      }
    },
    {
      "cell_type": "code",
      "source": [
        "a=df[df[\"type\"]==\"Movie\"].groupby(\"cast\")[\"title\"].nunique().sort_values(ascending=False)\n",
        "a=a[1:6]\n",
        "fig,ax=plt.subplots(figsize=(10,5))\n",
        "sns.barplot(a.index,a.values)\n",
        "plt.title(\"Top 5 Popular Actors - Movies\")\n",
        "plt.show()"
      ],
      "metadata": {
        "colab": {
          "base_uri": "https://localhost:8080/",
          "height": 405
        },
        "id": "MAX0Sz4Fzpmx",
        "outputId": "3fadbc0c-03c2-4dcf-9161-d6a2146294e3"
      },
      "execution_count": null,
      "outputs": [
        {
          "output_type": "stream",
          "name": "stderr",
          "text": [
            "/usr/local/lib/python3.7/dist-packages/seaborn/_decorators.py:43: FutureWarning: Pass the following variables as keyword args: x, y. From version 0.12, the only valid positional argument will be `data`, and passing other arguments without an explicit keyword will result in an error or misinterpretation.\n",
            "  FutureWarning\n"
          ]
        },
        {
          "output_type": "display_data",
          "data": {
            "text/plain": [
              "<Figure size 720x360 with 1 Axes>"
            ],
            "image/png": "[encoded data removed]"
          },
          "metadata": {
            "needs_background": "light"
          }
        }
      ]
    },
    {
      "cell_type": "code",
      "source": [
        "df[df[\"type\"]==\"Movie\"].groupby(\"cast\").agg({\"title\":\"nunique\",\"country\": pd.Series.mode}).sort_values(by=\"title\",ascending=False)"
      ],
      "metadata": {
        "colab": {
          "base_uri": "https://localhost:8080/",
          "height": 455
        },
        "id": "MgW1Kpsy4E3z",
        "outputId": "d9dd820b-7b58-4f46-cf83-b0743f5fd719"
      },
      "execution_count": null,
      "outputs": [
        {
          "output_type": "execute_result",
          "data": {
            "text/plain": [
              "                  title                  country\n",
              "cast                                            \n",
              "Not Known           475            United States\n",
              "Anupam Kher          42                    India\n",
              "Shah Rukh Khan       35                    India\n",
              "Naseeruddin Shah     32                    India\n",
              "Om Puri              30                    India\n",
              "...                 ...                      ...\n",
              "Jacob Blair           1  [Canada, United States]\n",
              "Jacob Bertrand        1  [Canada, United States]\n",
              "Jacob Batalon         1            United States\n",
              "Jacob Artist          1            United States\n",
              "Ṣọpẹ́ Dìrísù          1           United Kingdom\n",
              "\n",
              "[25952 rows x 2 columns]"
            ],
            "text/html": [
              "\n",
              "  <div id=\"df-93caba08-f853-4e09-8528-c8f01c1ab9da\">\n",
              "    <div class=\"colab-df-container\">\n",
              "      <div>\n",
              "<style scoped>\n",
              "    .dataframe tbody tr th:only-of-type {\n",
              "        vertical-align: middle;\n",
              "    }\n",
              "\n",
              "    .dataframe tbody tr th {\n",
              "        vertical-align: top;\n",
              "    }\n",
              "\n",
              "    .dataframe thead th {\n",
              "        text-align: right;\n",
              "    }\n",
              "</style>\n",
              "<table border=\"1\" class=\"dataframe\">\n",
              "  <thead>\n",
              "    <tr style=\"text-align: right;\">\n",
              "      <th></th>\n",
              "      <th>title</th>\n",
              "      <th>country</th>\n",
              "    </tr>\n",
              "    <tr>\n",
              "      <th>cast</th>\n",
              "      <th></th>\n",
              "      <th></th>\n",
              "    </tr>\n",
              "  </thead>\n",
              "  <tbody>\n",
              "    <tr>\n",
              "      <th>Not Known</th>\n",
              "      <td>475</td>\n",
              "      <td>United States</td>\n",
              "    </tr>\n",
              "    <tr>\n",
              "      <th>Anupam Kher</th>\n",
              "      <td>42</td>\n",
              "      <td>India</td>\n",
              "    </tr>\n",
              "    <tr>\n",
              "      <th>Shah Rukh Khan</th>\n",
              "      <td>35</td>\n",
              "      <td>India</td>\n",
              "    </tr>\n",
              "    <tr>\n",
              "      <th>Naseeruddin Shah</th>\n",
              "      <td>32</td>\n",
              "      <td>India</td>\n",
              "    </tr>\n",
              "    <tr>\n",
              "      <th>Om Puri</th>\n",
              "      <td>30</td>\n",
              "      <td>India</td>\n",
              "    </tr>\n",
              "    <tr>\n",
              "      <th>...</th>\n",
              "      <td>...</td>\n",
              "      <td>...</td>\n",
              "    </tr>\n",
              "    <tr>\n",
              "      <th>Jacob Blair</th>\n",
              "      <td>1</td>\n",
              "      <td>[Canada, United States]</td>\n",
              "    </tr>\n",
              "    <tr>\n",
              "      <th>Jacob Bertrand</th>\n",
              "      <td>1</td>\n",
              "      <td>[Canada, United States]</td>\n",
              "    </tr>\n",
              "    <tr>\n",
              "      <th>Jacob Batalon</th>\n",
              "      <td>1</td>\n",
              "      <td>United States</td>\n",
              "    </tr>\n",
              "    <tr>\n",
              "      <th>Jacob Artist</th>\n",
              "      <td>1</td>\n",
              "      <td>United States</td>\n",
              "    </tr>\n",
              "    <tr>\n",
              "      <th>Ṣọpẹ́ Dìrísù</th>\n",
              "      <td>1</td>\n",
              "      <td>United Kingdom</td>\n",
              "    </tr>\n",
              "  </tbody>\n",
              "</table>\n",
              "<p>25952 rows × 2 columns</p>\n",
              "</div>\n",
              "      <button class=\"colab-df-convert\" onclick=\"convertToInteractive('df-93caba08-f853-4e09-8528-c8f01c1ab9da')\"\n",
              "              title=\"Convert this dataframe to an interactive table.\"\n",
              "              style=\"display:none;\">\n",
              "        \n",
              "  <svg xmlns=\"http://www.w3.org/2000/svg\" height=\"24px\"viewBox=\"0 0 24 24\"\n",
              "       width=\"24px\">\n",
              "    <path d=\"M0 0h24v24H0V0z\" fill=\"none\"/>\n",
              "    <path d=\"M18.56 5.44l.94 2.06.94-2.06 2.06-.94-2.06-.94-.94-2.06-.94 2.06-2.06.94zm-11 1L8.5 8.5l.94-2.06 2.06-.94-2.06-.94L8.5 2.5l-.94 2.06-2.06.94zm10 10l.94 2.06.94-2.06 2.06-.94-2.06-.94-.94-2.06-.94 2.06-2.06.94z\"/><path d=\"M17.41 7.96l-1.37-1.37c-.4-.4-.92-.59-1.43-.59-.52 0-1.04.2-1.43.59L10.3 9.45l-7.72 7.72c-.78.78-.78 2.05 0 2.83L4 21.41c.39.39.9.59 1.41.59.51 0 1.02-.2 1.41-.59l7.78-7.78 2.81-2.81c.8-.78.8-2.07 0-2.86zM5.41 20L4 18.59l7.72-7.72 1.47 1.35L5.41 20z\"/>\n",
              "  </svg>\n",
              "      </button>\n",
              "      \n",
              "  <style>\n",
              "    .colab-df-container {\n",
              "      display:flex;\n",
              "      flex-wrap:wrap;\n",
              "      gap: 12px;\n",
              "    }\n",
              "\n",
              "    .colab-df-convert {\n",
              "      background-color: #E8F0FE;\n",
              "      border: none;\n",
              "      border-radius: 50%;\n",
              "      cursor: pointer;\n",
              "      display: none;\n",
              "      fill: #1967D2;\n",
              "      height: 32px;\n",
              "      padding: 0 0 0 0;\n",
              "      width: 32px;\n",
              "    }\n",
              "\n",
              "    .colab-df-convert:hover {\n",
              "      background-color: #E2EBFA;\n",
              "      box-shadow: 0px 1px 2px rgba(60, 64, 67, 0.3), 0px 1px 3px 1px rgba(60, 64, 67, 0.15);\n",
              "      fill: #174EA6;\n",
              "    }\n",
              "\n",
              "    [theme=dark] .colab-df-convert {\n",
              "      background-color: #3B4455;\n",
              "      fill: #D2E3FC;\n",
              "    }\n",
              "\n",
              "    [theme=dark] .colab-df-convert:hover {\n",
              "      background-color: #434B5C;\n",
              "      box-shadow: 0px 1px 3px 1px rgba(0, 0, 0, 0.15);\n",
              "      filter: drop-shadow(0px 1px 2px rgba(0, 0, 0, 0.3));\n",
              "      fill: #FFFFFF;\n",
              "    }\n",
              "  </style>\n",
              "\n",
              "      <script>\n",
              "        const buttonEl =\n",
              "          document.querySelector('#df-93caba08-f853-4e09-8528-c8f01c1ab9da button.colab-df-convert');\n",
              "        buttonEl.style.display =\n",
              "          google.colab.kernel.accessAllowed ? 'block' : 'none';\n",
              "\n",
              "        async function convertToInteractive(key) {\n",
              "          const element = document.querySelector('#df-93caba08-f853-4e09-8528-c8f01c1ab9da');\n",
              "          const dataTable =\n",
              "            await google.colab.kernel.invokeFunction('convertToInteractive',\n",
              "                                                     [key], {});\n",
              "          if (!dataTable) return;\n",
              "\n",
              "          const docLinkHtml = 'Like what you see? Visit the ' +\n",
              "            '<a target=\"_blank\" href=https://colab.research.google.com/notebooks/data_table.ipynb>data table notebook</a>'\n",
              "            + ' to learn more about interactive tables.';\n",
              "          element.innerHTML = '';\n",
              "          dataTable['output_type'] = 'display_data';\n",
              "          await google.colab.output.renderOutput(dataTable, element);\n",
              "          const docLink = document.createElement('div');\n",
              "          docLink.innerHTML = docLinkHtml;\n",
              "          element.appendChild(docLink);\n",
              "        }\n",
              "      </script>\n",
              "    </div>\n",
              "  </div>\n",
              "  "
            ]
          },
          "metadata": {},
          "execution_count": 593
        }
      ]
    },
    {
      "cell_type": "markdown",
      "source": [
        "9. Anupam Kher, Shahrukh Khan and Naseeruddin Shah are the popular movie actors with respect to the number of titles. The top 5 names are from India"
      ],
      "metadata": {
        "id": "P0IjavjUlgLq"
      }
    },
    {
      "cell_type": "code",
      "source": [
        "a=df[df[\"type\"]==\"TV Show\"].groupby(\"cast\")[\"title\"].nunique().sort_values(ascending=False)\n",
        "a=a[1:6]\n",
        "fig,ax=plt.subplots(figsize=(10,5))\n",
        "sns.barplot(a.index,a.values)\n",
        "plt.title(\"Top 5 Popular Actors - TV Shows\")\n",
        "plt.show()"
      ],
      "metadata": {
        "colab": {
          "base_uri": "https://localhost:8080/",
          "height": 405
        },
        "id": "CUfobNsG2qJx",
        "outputId": "20553346-9e76-4c63-f3da-d6b38c7eb867"
      },
      "execution_count": null,
      "outputs": [
        {
          "output_type": "stream",
          "name": "stderr",
          "text": [
            "/usr/local/lib/python3.7/dist-packages/seaborn/_decorators.py:43: FutureWarning: Pass the following variables as keyword args: x, y. From version 0.12, the only valid positional argument will be `data`, and passing other arguments without an explicit keyword will result in an error or misinterpretation.\n",
            "  FutureWarning\n"
          ]
        },
        {
          "output_type": "display_data",
          "data": {
            "text/plain": [
              "<Figure size 720x360 with 1 Axes>"
            ],
            "image/png": "[encoded data removed]"
          },
          "metadata": {
            "needs_background": "light"
          }
        }
      ]
    },
    {
      "cell_type": "code",
      "source": [
        "df[df[\"type\"]==\"TV Show\"].groupby(\"cast\").agg({\"title\":\"nunique\",\"country\": pd.Series.mode}).sort_values(by=\"title\",ascending=False)"
      ],
      "metadata": {
        "colab": {
          "base_uri": "https://localhost:8080/",
          "height": 455
        },
        "id": "BKcI6xZk3aHa",
        "outputId": "63d176b6-f425-48fd-e870-efe4db9d6951"
      },
      "execution_count": null,
      "outputs": [
        {
          "output_type": "execute_result",
          "data": {
            "text/plain": [
              "                       title        country\n",
              "cast                                       \n",
              "Not Known                350  United States\n",
              "Takahiro Sakurai          25          Japan\n",
              "Yuki Kaji                 19          Japan\n",
              "Ai Kayano                 17          Japan\n",
              "Junichi Suwabe            17          Japan\n",
              "...                      ...            ...\n",
              "Ivy Yin                    1         Taiwan\n",
              "Iván Pellicer              1          Spain\n",
              "Iván Álvarez de Araya      1          Chile\n",
              "Iza Moreira                1         Brazil\n",
              "Şükrü Özyıldız             1         Turkey\n",
              "\n",
              "[14864 rows x 2 columns]"
            ],
            "text/html": [
              "\n",
              "  <div id=\"df-65680f81-55a1-4349-893f-0ee4b637ecbb\">\n",
              "    <div class=\"colab-df-container\">\n",
              "      <div>\n",
              "<style scoped>\n",
              "    .dataframe tbody tr th:only-of-type {\n",
              "        vertical-align: middle;\n",
              "    }\n",
              "\n",
              "    .dataframe tbody tr th {\n",
              "        vertical-align: top;\n",
              "    }\n",
              "\n",
              "    .dataframe thead th {\n",
              "        text-align: right;\n",
              "    }\n",
              "</style>\n",
              "<table border=\"1\" class=\"dataframe\">\n",
              "  <thead>\n",
              "    <tr style=\"text-align: right;\">\n",
              "      <th></th>\n",
              "      <th>title</th>\n",
              "      <th>country</th>\n",
              "    </tr>\n",
              "    <tr>\n",
              "      <th>cast</th>\n",
              "      <th></th>\n",
              "      <th></th>\n",
              "    </tr>\n",
              "  </thead>\n",
              "  <tbody>\n",
              "    <tr>\n",
              "      <th>Not Known</th>\n",
              "      <td>350</td>\n",
              "      <td>United States</td>\n",
              "    </tr>\n",
              "    <tr>\n",
              "      <th>Takahiro Sakurai</th>\n",
              "      <td>25</td>\n",
              "      <td>Japan</td>\n",
              "    </tr>\n",
              "    <tr>\n",
              "      <th>Yuki Kaji</th>\n",
              "      <td>19</td>\n",
              "      <td>Japan</td>\n",
              "    </tr>\n",
              "    <tr>\n",
              "      <th>Ai Kayano</th>\n",
              "      <td>17</td>\n",
              "      <td>Japan</td>\n",
              "    </tr>\n",
              "    <tr>\n",
              "      <th>Junichi Suwabe</th>\n",
              "      <td>17</td>\n",
              "      <td>Japan</td>\n",
              "    </tr>\n",
              "    <tr>\n",
              "      <th>...</th>\n",
              "      <td>...</td>\n",
              "      <td>...</td>\n",
              "    </tr>\n",
              "    <tr>\n",
              "      <th>Ivy Yin</th>\n",
              "      <td>1</td>\n",
              "      <td>Taiwan</td>\n",
              "    </tr>\n",
              "    <tr>\n",
              "      <th>Iván Pellicer</th>\n",
              "      <td>1</td>\n",
              "      <td>Spain</td>\n",
              "    </tr>\n",
              "    <tr>\n",
              "      <th>Iván Álvarez de Araya</th>\n",
              "      <td>1</td>\n",
              "      <td>Chile</td>\n",
              "    </tr>\n",
              "    <tr>\n",
              "      <th>Iza Moreira</th>\n",
              "      <td>1</td>\n",
              "      <td>Brazil</td>\n",
              "    </tr>\n",
              "    <tr>\n",
              "      <th>Şükrü Özyıldız</th>\n",
              "      <td>1</td>\n",
              "      <td>Turkey</td>\n",
              "    </tr>\n",
              "  </tbody>\n",
              "</table>\n",
              "<p>14864 rows × 2 columns</p>\n",
              "</div>\n",
              "      <button class=\"colab-df-convert\" onclick=\"convertToInteractive('df-65680f81-55a1-4349-893f-0ee4b637ecbb')\"\n",
              "              title=\"Convert this dataframe to an interactive table.\"\n",
              "              style=\"display:none;\">\n",
              "        \n",
              "  <svg xmlns=\"http://www.w3.org/2000/svg\" height=\"24px\"viewBox=\"0 0 24 24\"\n",
              "       width=\"24px\">\n",
              "    <path d=\"M0 0h24v24H0V0z\" fill=\"none\"/>\n",
              "    <path d=\"M18.56 5.44l.94 2.06.94-2.06 2.06-.94-2.06-.94-.94-2.06-.94 2.06-2.06.94zm-11 1L8.5 8.5l.94-2.06 2.06-.94-2.06-.94L8.5 2.5l-.94 2.06-2.06.94zm10 10l.94 2.06.94-2.06 2.06-.94-2.06-.94-.94-2.06-.94 2.06-2.06.94z\"/><path d=\"M17.41 7.96l-1.37-1.37c-.4-.4-.92-.59-1.43-.59-.52 0-1.04.2-1.43.59L10.3 9.45l-7.72 7.72c-.78.78-.78 2.05 0 2.83L4 21.41c.39.39.9.59 1.41.59.51 0 1.02-.2 1.41-.59l7.78-7.78 2.81-2.81c.8-.78.8-2.07 0-2.86zM5.41 20L4 18.59l7.72-7.72 1.47 1.35L5.41 20z\"/>\n",
              "  </svg>\n",
              "      </button>\n",
              "      \n",
              "  <style>\n",
              "    .colab-df-container {\n",
              "      display:flex;\n",
              "      flex-wrap:wrap;\n",
              "      gap: 12px;\n",
              "    }\n",
              "\n",
              "    .colab-df-convert {\n",
              "      background-color: #E8F0FE;\n",
              "      border: none;\n",
              "      border-radius: 50%;\n",
              "      cursor: pointer;\n",
              "      display: none;\n",
              "      fill: #1967D2;\n",
              "      height: 32px;\n",
              "      padding: 0 0 0 0;\n",
              "      width: 32px;\n",
              "    }\n",
              "\n",
              "    .colab-df-convert:hover {\n",
              "      background-color: #E2EBFA;\n",
              "      box-shadow: 0px 1px 2px rgba(60, 64, 67, 0.3), 0px 1px 3px 1px rgba(60, 64, 67, 0.15);\n",
              "      fill: #174EA6;\n",
              "    }\n",
              "\n",
              "    [theme=dark] .colab-df-convert {\n",
              "      background-color: #3B4455;\n",
              "      fill: #D2E3FC;\n",
              "    }\n",
              "\n",
              "    [theme=dark] .colab-df-convert:hover {\n",
              "      background-color: #434B5C;\n",
              "      box-shadow: 0px 1px 3px 1px rgba(0, 0, 0, 0.15);\n",
              "      filter: drop-shadow(0px 1px 2px rgba(0, 0, 0, 0.3));\n",
              "      fill: #FFFFFF;\n",
              "    }\n",
              "  </style>\n",
              "\n",
              "      <script>\n",
              "        const buttonEl =\n",
              "          document.querySelector('#df-65680f81-55a1-4349-893f-0ee4b637ecbb button.colab-df-convert');\n",
              "        buttonEl.style.display =\n",
              "          google.colab.kernel.accessAllowed ? 'block' : 'none';\n",
              "\n",
              "        async function convertToInteractive(key) {\n",
              "          const element = document.querySelector('#df-65680f81-55a1-4349-893f-0ee4b637ecbb');\n",
              "          const dataTable =\n",
              "            await google.colab.kernel.invokeFunction('convertToInteractive',\n",
              "                                                     [key], {});\n",
              "          if (!dataTable) return;\n",
              "\n",
              "          const docLinkHtml = 'Like what you see? Visit the ' +\n",
              "            '<a target=\"_blank\" href=https://colab.research.google.com/notebooks/data_table.ipynb>data table notebook</a>'\n",
              "            + ' to learn more about interactive tables.';\n",
              "          element.innerHTML = '';\n",
              "          dataTable['output_type'] = 'display_data';\n",
              "          await google.colab.output.renderOutput(dataTable, element);\n",
              "          const docLink = document.createElement('div');\n",
              "          docLink.innerHTML = docLinkHtml;\n",
              "          element.appendChild(docLink);\n",
              "        }\n",
              "      </script>\n",
              "    </div>\n",
              "  </div>\n",
              "  "
            ]
          },
          "metadata": {},
          "execution_count": 595
        }
      ]
    },
    {
      "cell_type": "markdown",
      "source": [
        "10. Takahiro Sakurai, Yuki Kaji and Ai Kayano are the popular TV Show actors with respect to the number of titles. The top 5 names are from Japan"
      ],
      "metadata": {
        "id": "CmmNk-RJl-uJ"
      }
    },
    {
      "cell_type": "code",
      "source": [
        "a=df[df[\"release_year\"]>=2017].groupby(\"cast\")[\"title\"].nunique().sort_values(ascending=False)\n",
        "a=a[1:11]\n",
        "sns.barplot(a.values,a.index)\n",
        "plt.title(\"Top 10 Actors - Most number of movies/TV shows released after 2017\")\n",
        "plt.show()"
      ],
      "metadata": {
        "colab": {
          "base_uri": "https://localhost:8080/",
          "height": 336
        },
        "id": "wjdJVHL_WBe1",
        "outputId": "9727d5c4-a68b-4557-c1b3-b90c810bfe6a"
      },
      "execution_count": null,
      "outputs": [
        {
          "output_type": "stream",
          "name": "stderr",
          "text": [
            "/usr/local/lib/python3.7/dist-packages/seaborn/_decorators.py:43: FutureWarning: Pass the following variables as keyword args: x, y. From version 0.12, the only valid positional argument will be `data`, and passing other arguments without an explicit keyword will result in an error or misinterpretation.\n",
            "  FutureWarning\n"
          ]
        },
        {
          "output_type": "display_data",
          "data": {
            "text/plain": [
              "<Figure size 432x288 with 1 Axes>"
            ],
            "image/png": "[encoded data removed]"
          },
          "metadata": {
            "needs_background": "light"
          }
        }
      ]
    },
    {
      "cell_type": "code",
      "source": [
        "a=df[(df[\"release_year\"]>=2017) & (df[\"country\"]==\"India\")].groupby(\"cast\")[\"title\"].nunique().sort_values(ascending=False)\n",
        "a=a[1:11]\n",
        "sns.barplot(a.values,a.index)\n",
        "plt.title(\"Top 10 Indian Actors - Most number of movies/TV shows released after 2017\")\n",
        "plt.show()"
      ],
      "metadata": {
        "colab": {
          "base_uri": "https://localhost:8080/",
          "height": 336
        },
        "id": "3RjJhFfBZwVg",
        "outputId": "343fc0f6-9012-4dd9-d8e8-e89d6b9ce6ac"
      },
      "execution_count": null,
      "outputs": [
        {
          "output_type": "stream",
          "name": "stderr",
          "text": [
            "/usr/local/lib/python3.7/dist-packages/seaborn/_decorators.py:43: FutureWarning: Pass the following variables as keyword args: x, y. From version 0.12, the only valid positional argument will be `data`, and passing other arguments without an explicit keyword will result in an error or misinterpretation.\n",
            "  FutureWarning\n"
          ]
        },
        {
          "output_type": "display_data",
          "data": {
            "text/plain": [
              "<Figure size 432x288 with 1 Axes>"
            ],
            "image/png": "[encoded data removed]"
          },
          "metadata": {
            "needs_background": "light"
          }
        }
      ]
    },
    {
      "cell_type": "markdown",
      "source": [
        "11. Vincent Tong is the most popular actor with most number of releases in the last 5 years. In India, Nawazuddin Siddiqui holds the top spot for the same."
      ],
      "metadata": {
        "id": "V5gFNLtCmSKm"
      }
    },
    {
      "cell_type": "code",
      "source": [
        "a=df[(df[\"type\"]==\"Movie\") & (df[\"country\"]==\"India\")].groupby([\"cast\",\"director\"])[\"title\"].nunique().sort_values(ascending=False)\n",
        "a"
      ],
      "metadata": {
        "colab": {
          "base_uri": "https://localhost:8080/"
        },
        "id": "bQd0rf_RQzpT",
        "outputId": "f9982566-48aa-4709-bc5b-0664a57bc389"
      },
      "execution_count": null,
      "outputs": [
        {
          "output_type": "execute_result",
          "data": {
            "text/plain": [
              "cast          director                 \n",
              "Anupam Kher   David Dhawan                 6\n",
              "Salman Khan   Sooraj R. Barjatya           5\n",
              "Alok Nath     Sooraj R. Barjatya           5\n",
              "Rajpal Yadav  Priyadarshan                 4\n",
              "Ajay Devgn    Prakash Jha                  4\n",
              "                                          ..\n",
              "Johny Lever   Rahul Rawail                 1\n",
              "              Neeraj Vora                  1\n",
              "              Mastan Alibhai Burmawalla    1\n",
              "              Khalid Mohamed               1\n",
              "Şafak Sezer   Sermiyan Midyat              1\n",
              "Name: title, Length: 7470, dtype: int64"
            ]
          },
          "metadata": {},
          "execution_count": 598
        }
      ]
    },
    {
      "cell_type": "markdown",
      "source": [
        "12. Anupam Kher and David Dhawan is the hit actor-director pair with 6 titles between them."
      ],
      "metadata": {
        "id": "Ti4-ph0vmnPj"
      }
    },
    {
      "cell_type": "code",
      "source": [
        "a=df[df[\"type\"]==\"Movie\"].groupby(\"director\")[\"title\"].nunique().sort_values(ascending=False)\n",
        "a=a[1:6]\n",
        "fig,ax=plt.subplots(figsize=(10,5))\n",
        "sns.barplot(a.index,a.values)\n",
        "plt.title(\"Top 5 Popular Directors - Movies\")\n",
        "plt.show()"
      ],
      "metadata": {
        "colab": {
          "base_uri": "https://localhost:8080/",
          "height": 405
        },
        "id": "7C-kygiZ2aLy",
        "outputId": "cf171715-a82a-4f1e-9e0a-dc90bbd7599c"
      },
      "execution_count": null,
      "outputs": [
        {
          "output_type": "stream",
          "name": "stderr",
          "text": [
            "/usr/local/lib/python3.7/dist-packages/seaborn/_decorators.py:43: FutureWarning: Pass the following variables as keyword args: x, y. From version 0.12, the only valid positional argument will be `data`, and passing other arguments without an explicit keyword will result in an error or misinterpretation.\n",
            "  FutureWarning\n"
          ]
        },
        {
          "output_type": "display_data",
          "data": {
            "text/plain": [
              "<Figure size 720x360 with 1 Axes>"
            ],
            "image/png": "[encoded data removed]"
          },
          "metadata": {
            "needs_background": "light"
          }
        }
      ]
    },
    {
      "cell_type": "code",
      "source": [
        "a=df[df[\"type\"]==\"TV Show\"].groupby(\"director\")[\"title\"].nunique().sort_values(ascending=False)\n",
        "a=a[1:6]\n",
        "fig,ax=plt.subplots(figsize=(10,5))\n",
        "sns.barplot(a.index,a.values)\n",
        "plt.title(\"Top 5 Popular Directors - TV Shows\")\n",
        "plt.show()"
      ],
      "metadata": {
        "colab": {
          "base_uri": "https://localhost:8080/",
          "height": 405
        },
        "id": "AXL91JC_4vcX",
        "outputId": "0979059f-628b-4582-a299-15ae5f35a735"
      },
      "execution_count": null,
      "outputs": [
        {
          "output_type": "stream",
          "name": "stderr",
          "text": [
            "/usr/local/lib/python3.7/dist-packages/seaborn/_decorators.py:43: FutureWarning: Pass the following variables as keyword args: x, y. From version 0.12, the only valid positional argument will be `data`, and passing other arguments without an explicit keyword will result in an error or misinterpretation.\n",
            "  FutureWarning\n"
          ]
        },
        {
          "output_type": "display_data",
          "data": {
            "text/plain": [
              "<Figure size 720x360 with 1 Axes>"
            ],
            "image/png": "[encoded data removed]"
          },
          "metadata": {
            "needs_background": "light"
          }
        }
      ]
    },
    {
      "cell_type": "markdown",
      "source": [
        "13. Rajiv Chilaka is the most popular Movie Director and Ken Burns and Alastair Fothergill share the spot in TV Shows"
      ],
      "metadata": {
        "id": "hThxQG8Bm04A"
      }
    },
    {
      "cell_type": "code",
      "source": [
        "a=df[(df[\"type\"]==\"TV Show\")].groupby(\"director\").agg({\"duration\" : \"max\"}).sort_values(by=\"duration\",ascending=False)\n",
        "a"
      ],
      "metadata": {
        "colab": {
          "base_uri": "https://localhost:8080/",
          "height": 455
        },
        "id": "2TBeYKKoT8je",
        "outputId": "0330296d-87eb-4b64-c62f-aaf2e3fae87c"
      },
      "execution_count": null,
      "outputs": [
        {
          "output_type": "execute_result",
          "data": {
            "text/plain": [
              "                        duration\n",
              "director                        \n",
              "Not Known                   17.0\n",
              "Phil Sgriccia               15.0\n",
              "Hayato Date                  9.0\n",
              "Philippa Lowthorpe           9.0\n",
              "Andy Devonshire              9.0\n",
              "...                          ...\n",
              "Javier Gómez Santander       1.0\n",
              "Jay Oliva                    1.0\n",
              "Jenner Furst                 1.0\n",
              "Jeon Go-woon                 1.0\n",
              "Ziad Doueiri                 1.0\n",
              "\n",
              "[300 rows x 1 columns]"
            ],
            "text/html": [
              "\n",
              "  <div id=\"df-7f22ab7a-7f51-482d-9334-0b6c8b3b9cf5\">\n",
              "    <div class=\"colab-df-container\">\n",
              "      <div>\n",
              "<style scoped>\n",
              "    .dataframe tbody tr th:only-of-type {\n",
              "        vertical-align: middle;\n",
              "    }\n",
              "\n",
              "    .dataframe tbody tr th {\n",
              "        vertical-align: top;\n",
              "    }\n",
              "\n",
              "    .dataframe thead th {\n",
              "        text-align: right;\n",
              "    }\n",
              "</style>\n",
              "<table border=\"1\" class=\"dataframe\">\n",
              "  <thead>\n",
              "    <tr style=\"text-align: right;\">\n",
              "      <th></th>\n",
              "      <th>duration</th>\n",
              "    </tr>\n",
              "    <tr>\n",
              "      <th>director</th>\n",
              "      <th></th>\n",
              "    </tr>\n",
              "  </thead>\n",
              "  <tbody>\n",
              "    <tr>\n",
              "      <th>Not Known</th>\n",
              "      <td>17.0</td>\n",
              "    </tr>\n",
              "    <tr>\n",
              "      <th>Phil Sgriccia</th>\n",
              "      <td>15.0</td>\n",
              "    </tr>\n",
              "    <tr>\n",
              "      <th>Hayato Date</th>\n",
              "      <td>9.0</td>\n",
              "    </tr>\n",
              "    <tr>\n",
              "      <th>Philippa Lowthorpe</th>\n",
              "      <td>9.0</td>\n",
              "    </tr>\n",
              "    <tr>\n",
              "      <th>Andy Devonshire</th>\n",
              "      <td>9.0</td>\n",
              "    </tr>\n",
              "    <tr>\n",
              "      <th>...</th>\n",
              "      <td>...</td>\n",
              "    </tr>\n",
              "    <tr>\n",
              "      <th>Javier Gómez Santander</th>\n",
              "      <td>1.0</td>\n",
              "    </tr>\n",
              "    <tr>\n",
              "      <th>Jay Oliva</th>\n",
              "      <td>1.0</td>\n",
              "    </tr>\n",
              "    <tr>\n",
              "      <th>Jenner Furst</th>\n",
              "      <td>1.0</td>\n",
              "    </tr>\n",
              "    <tr>\n",
              "      <th>Jeon Go-woon</th>\n",
              "      <td>1.0</td>\n",
              "    </tr>\n",
              "    <tr>\n",
              "      <th>Ziad Doueiri</th>\n",
              "      <td>1.0</td>\n",
              "    </tr>\n",
              "  </tbody>\n",
              "</table>\n",
              "<p>300 rows × 1 columns</p>\n",
              "</div>\n",
              "      <button class=\"colab-df-convert\" onclick=\"convertToInteractive('df-7f22ab7a-7f51-482d-9334-0b6c8b3b9cf5')\"\n",
              "              title=\"Convert this dataframe to an interactive table.\"\n",
              "              style=\"display:none;\">\n",
              "        \n",
              "  <svg xmlns=\"http://www.w3.org/2000/svg\" height=\"24px\"viewBox=\"0 0 24 24\"\n",
              "       width=\"24px\">\n",
              "    <path d=\"M0 0h24v24H0V0z\" fill=\"none\"/>\n",
              "    <path d=\"M18.56 5.44l.94 2.06.94-2.06 2.06-.94-2.06-.94-.94-2.06-.94 2.06-2.06.94zm-11 1L8.5 8.5l.94-2.06 2.06-.94-2.06-.94L8.5 2.5l-.94 2.06-2.06.94zm10 10l.94 2.06.94-2.06 2.06-.94-2.06-.94-.94-2.06-.94 2.06-2.06.94z\"/><path d=\"M17.41 7.96l-1.37-1.37c-.4-.4-.92-.59-1.43-.59-.52 0-1.04.2-1.43.59L10.3 9.45l-7.72 7.72c-.78.78-.78 2.05 0 2.83L4 21.41c.39.39.9.59 1.41.59.51 0 1.02-.2 1.41-.59l7.78-7.78 2.81-2.81c.8-.78.8-2.07 0-2.86zM5.41 20L4 18.59l7.72-7.72 1.47 1.35L5.41 20z\"/>\n",
              "  </svg>\n",
              "      </button>\n",
              "      \n",
              "  <style>\n",
              "    .colab-df-container {\n",
              "      display:flex;\n",
              "      flex-wrap:wrap;\n",
              "      gap: 12px;\n",
              "    }\n",
              "\n",
              "    .colab-df-convert {\n",
              "      background-color: #E8F0FE;\n",
              "      border: none;\n",
              "      border-radius: 50%;\n",
              "      cursor: pointer;\n",
              "      display: none;\n",
              "      fill: #1967D2;\n",
              "      height: 32px;\n",
              "      padding: 0 0 0 0;\n",
              "      width: 32px;\n",
              "    }\n",
              "\n",
              "    .colab-df-convert:hover {\n",
              "      background-color: #E2EBFA;\n",
              "      box-shadow: 0px 1px 2px rgba(60, 64, 67, 0.3), 0px 1px 3px 1px rgba(60, 64, 67, 0.15);\n",
              "      fill: #174EA6;\n",
              "    }\n",
              "\n",
              "    [theme=dark] .colab-df-convert {\n",
              "      background-color: #3B4455;\n",
              "      fill: #D2E3FC;\n",
              "    }\n",
              "\n",
              "    [theme=dark] .colab-df-convert:hover {\n",
              "      background-color: #434B5C;\n",
              "      box-shadow: 0px 1px 3px 1px rgba(0, 0, 0, 0.15);\n",
              "      filter: drop-shadow(0px 1px 2px rgba(0, 0, 0, 0.3));\n",
              "      fill: #FFFFFF;\n",
              "    }\n",
              "  </style>\n",
              "\n",
              "      <script>\n",
              "        const buttonEl =\n",
              "          document.querySelector('#df-7f22ab7a-7f51-482d-9334-0b6c8b3b9cf5 button.colab-df-convert');\n",
              "        buttonEl.style.display =\n",
              "          google.colab.kernel.accessAllowed ? 'block' : 'none';\n",
              "\n",
              "        async function convertToInteractive(key) {\n",
              "          const element = document.querySelector('#df-7f22ab7a-7f51-482d-9334-0b6c8b3b9cf5');\n",
              "          const dataTable =\n",
              "            await google.colab.kernel.invokeFunction('convertToInteractive',\n",
              "                                                     [key], {});\n",
              "          if (!dataTable) return;\n",
              "\n",
              "          const docLinkHtml = 'Like what you see? Visit the ' +\n",
              "            '<a target=\"_blank\" href=https://colab.research.google.com/notebooks/data_table.ipynb>data table notebook</a>'\n",
              "            + ' to learn more about interactive tables.';\n",
              "          element.innerHTML = '';\n",
              "          dataTable['output_type'] = 'display_data';\n",
              "          await google.colab.output.renderOutput(dataTable, element);\n",
              "          const docLink = document.createElement('div');\n",
              "          docLink.innerHTML = docLinkHtml;\n",
              "          element.appendChild(docLink);\n",
              "        }\n",
              "      </script>\n",
              "    </div>\n",
              "  </div>\n",
              "  "
            ]
          },
          "metadata": {},
          "execution_count": 601
        }
      ]
    },
    {
      "cell_type": "code",
      "source": [
        "df[df[\"director\"]==\"Phil Sgriccia\"].iloc[:2]"
      ],
      "metadata": {
        "colab": {
          "base_uri": "https://localhost:8080/",
          "height": 226
        },
        "id": "qEEUkUieVx4p",
        "outputId": "e3774bdd-ad35-4965-8df7-d6b19f306959"
      },
      "execution_count": null,
      "outputs": [
        {
          "output_type": "execute_result",
          "data": {
            "text/plain": [
              "      show_id     type         title           date_added  release_year  \\\n",
              "57639   s2424  TV Show  Supernatural  2020-06-05 00:00:00          2019   \n",
              "57640   s2424  TV Show  Supernatural  2020-06-05 00:00:00          2019   \n",
              "\n",
              "      rating                                        description  duration  \\\n",
              "57639  TV-14  Siblings Dean and Sam crisscross the country, ...      15.0   \n",
              "57640  TV-14  Siblings Dean and Sam crisscross the country, ...      15.0   \n",
              "\n",
              "      duration_metric             cast       director          listed_in  \\\n",
              "57639          Season  Jared Padalecki  Phil Sgriccia  Classic & Cult TV   \n",
              "57640          Season  Jared Padalecki  Phil Sgriccia  Classic & Cult TV   \n",
              "\n",
              "             country  \n",
              "57639  United States  \n",
              "57640         Canada  "
            ],
            "text/html": [
              "\n",
              "  <div id=\"df-b277dc0c-91c8-4952-b6fd-8fa232ea5882\">\n",
              "    <div class=\"colab-df-container\">\n",
              "      <div>\n",
              "<style scoped>\n",
              "    .dataframe tbody tr th:only-of-type {\n",
              "        vertical-align: middle;\n",
              "    }\n",
              "\n",
              "    .dataframe tbody tr th {\n",
              "        vertical-align: top;\n",
              "    }\n",
              "\n",
              "    .dataframe thead th {\n",
              "        text-align: right;\n",
              "    }\n",
              "</style>\n",
              "<table border=\"1\" class=\"dataframe\">\n",
              "  <thead>\n",
              "    <tr style=\"text-align: right;\">\n",
              "      <th></th>\n",
              "      <th>show_id</th>\n",
              "      <th>type</th>\n",
              "      <th>title</th>\n",
              "      <th>date_added</th>\n",
              "      <th>release_year</th>\n",
              "      <th>rating</th>\n",
              "      <th>description</th>\n",
              "      <th>duration</th>\n",
              "      <th>duration_metric</th>\n",
              "      <th>cast</th>\n",
              "      <th>director</th>\n",
              "      <th>listed_in</th>\n",
              "      <th>country</th>\n",
              "    </tr>\n",
              "  </thead>\n",
              "  <tbody>\n",
              "    <tr>\n",
              "      <th>57639</th>\n",
              "      <td>s2424</td>\n",
              "      <td>TV Show</td>\n",
              "      <td>Supernatural</td>\n",
              "      <td>2020-06-05 00:00:00</td>\n",
              "      <td>2019</td>\n",
              "      <td>TV-14</td>\n",
              "      <td>Siblings Dean and Sam crisscross the country, ...</td>\n",
              "      <td>15.0</td>\n",
              "      <td>Season</td>\n",
              "      <td>Jared Padalecki</td>\n",
              "      <td>Phil Sgriccia</td>\n",
              "      <td>Classic &amp; Cult TV</td>\n",
              "      <td>United States</td>\n",
              "    </tr>\n",
              "    <tr>\n",
              "      <th>57640</th>\n",
              "      <td>s2424</td>\n",
              "      <td>TV Show</td>\n",
              "      <td>Supernatural</td>\n",
              "      <td>2020-06-05 00:00:00</td>\n",
              "      <td>2019</td>\n",
              "      <td>TV-14</td>\n",
              "      <td>Siblings Dean and Sam crisscross the country, ...</td>\n",
              "      <td>15.0</td>\n",
              "      <td>Season</td>\n",
              "      <td>Jared Padalecki</td>\n",
              "      <td>Phil Sgriccia</td>\n",
              "      <td>Classic &amp; Cult TV</td>\n",
              "      <td>Canada</td>\n",
              "    </tr>\n",
              "  </tbody>\n",
              "</table>\n",
              "</div>\n",
              "      <button class=\"colab-df-convert\" onclick=\"convertToInteractive('df-b277dc0c-91c8-4952-b6fd-8fa232ea5882')\"\n",
              "              title=\"Convert this dataframe to an interactive table.\"\n",
              "              style=\"display:none;\">\n",
              "        \n",
              "  <svg xmlns=\"http://www.w3.org/2000/svg\" height=\"24px\"viewBox=\"0 0 24 24\"\n",
              "       width=\"24px\">\n",
              "    <path d=\"M0 0h24v24H0V0z\" fill=\"none\"/>\n",
              "    <path d=\"M18.56 5.44l.94 2.06.94-2.06 2.06-.94-2.06-.94-.94-2.06-.94 2.06-2.06.94zm-11 1L8.5 8.5l.94-2.06 2.06-.94-2.06-.94L8.5 2.5l-.94 2.06-2.06.94zm10 10l.94 2.06.94-2.06 2.06-.94-2.06-.94-.94-2.06-.94 2.06-2.06.94z\"/><path d=\"M17.41 7.96l-1.37-1.37c-.4-.4-.92-.59-1.43-.59-.52 0-1.04.2-1.43.59L10.3 9.45l-7.72 7.72c-.78.78-.78 2.05 0 2.83L4 21.41c.39.39.9.59 1.41.59.51 0 1.02-.2 1.41-.59l7.78-7.78 2.81-2.81c.8-.78.8-2.07 0-2.86zM5.41 20L4 18.59l7.72-7.72 1.47 1.35L5.41 20z\"/>\n",
              "  </svg>\n",
              "      </button>\n",
              "      \n",
              "  <style>\n",
              "    .colab-df-container {\n",
              "      display:flex;\n",
              "      flex-wrap:wrap;\n",
              "      gap: 12px;\n",
              "    }\n",
              "\n",
              "    .colab-df-convert {\n",
              "      background-color: #E8F0FE;\n",
              "      border: none;\n",
              "      border-radius: 50%;\n",
              "      cursor: pointer;\n",
              "      display: none;\n",
              "      fill: #1967D2;\n",
              "      height: 32px;\n",
              "      padding: 0 0 0 0;\n",
              "      width: 32px;\n",
              "    }\n",
              "\n",
              "    .colab-df-convert:hover {\n",
              "      background-color: #E2EBFA;\n",
              "      box-shadow: 0px 1px 2px rgba(60, 64, 67, 0.3), 0px 1px 3px 1px rgba(60, 64, 67, 0.15);\n",
              "      fill: #174EA6;\n",
              "    }\n",
              "\n",
              "    [theme=dark] .colab-df-convert {\n",
              "      background-color: #3B4455;\n",
              "      fill: #D2E3FC;\n",
              "    }\n",
              "\n",
              "    [theme=dark] .colab-df-convert:hover {\n",
              "      background-color: #434B5C;\n",
              "      box-shadow: 0px 1px 3px 1px rgba(0, 0, 0, 0.15);\n",
              "      filter: drop-shadow(0px 1px 2px rgba(0, 0, 0, 0.3));\n",
              "      fill: #FFFFFF;\n",
              "    }\n",
              "  </style>\n",
              "\n",
              "      <script>\n",
              "        const buttonEl =\n",
              "          document.querySelector('#df-b277dc0c-91c8-4952-b6fd-8fa232ea5882 button.colab-df-convert');\n",
              "        buttonEl.style.display =\n",
              "          google.colab.kernel.accessAllowed ? 'block' : 'none';\n",
              "\n",
              "        async function convertToInteractive(key) {\n",
              "          const element = document.querySelector('#df-b277dc0c-91c8-4952-b6fd-8fa232ea5882');\n",
              "          const dataTable =\n",
              "            await google.colab.kernel.invokeFunction('convertToInteractive',\n",
              "                                                     [key], {});\n",
              "          if (!dataTable) return;\n",
              "\n",
              "          const docLinkHtml = 'Like what you see? Visit the ' +\n",
              "            '<a target=\"_blank\" href=https://colab.research.google.com/notebooks/data_table.ipynb>data table notebook</a>'\n",
              "            + ' to learn more about interactive tables.';\n",
              "          element.innerHTML = '';\n",
              "          dataTable['output_type'] = 'display_data';\n",
              "          await google.colab.output.renderOutput(dataTable, element);\n",
              "          const docLink = document.createElement('div');\n",
              "          docLink.innerHTML = docLinkHtml;\n",
              "          element.appendChild(docLink);\n",
              "        }\n",
              "      </script>\n",
              "    </div>\n",
              "  </div>\n",
              "  "
            ]
          },
          "metadata": {},
          "execution_count": 620
        }
      ]
    },
    {
      "cell_type": "markdown",
      "source": [
        "14. The TV Show that was renewed for the maximum number of Seasons is Supernatural directed by Phil Sgriccia and it ran for a whopping 15 seasons"
      ],
      "metadata": {
        "id": "BKx5VbK9nYw4"
      }
    },
    {
      "cell_type": "code",
      "source": [
        "a=df[df[\"release_year\"]>=2017].groupby(\"director\")[\"title\"].nunique().sort_values(ascending=False)\n",
        "a=a[1:11]\n",
        "sns.barplot(a.values,a.index)\n",
        "plt.title(\"Top 10 Directors - Most number of movies/TV shows released after 2017\")\n",
        "plt.show()"
      ],
      "metadata": {
        "colab": {
          "base_uri": "https://localhost:8080/",
          "height": 336
        },
        "id": "0cRlvTKkcjdJ",
        "outputId": "51645d52-7e8b-4793-e722-71c218d50ffb"
      },
      "execution_count": null,
      "outputs": [
        {
          "output_type": "stream",
          "name": "stderr",
          "text": [
            "/usr/local/lib/python3.7/dist-packages/seaborn/_decorators.py:43: FutureWarning: Pass the following variables as keyword args: x, y. From version 0.12, the only valid positional argument will be `data`, and passing other arguments without an explicit keyword will result in an error or misinterpretation.\n",
            "  FutureWarning\n"
          ]
        },
        {
          "output_type": "display_data",
          "data": {
            "text/plain": [
              "<Figure size 432x288 with 1 Axes>"
            ],
            "image/png": "[encoded data removed]"
          },
          "metadata": {
            "needs_background": "light"
          }
        }
      ]
    },
    {
      "cell_type": "code",
      "source": [
        "a=df[(df[\"release_year\"]>=2017) & (df[\"country\"]==\"India\")].groupby(\"director\")[\"title\"].nunique().sort_values(ascending=False)\n",
        "a=a[1:11]\n",
        "sns.barplot(a.values,a.index)\n",
        "plt.title(\"Top 10 Indian Directors - Most number of movies/TV shows released after 2017\")\n",
        "plt.show()"
      ],
      "metadata": {
        "colab": {
          "base_uri": "https://localhost:8080/",
          "height": 336
        },
        "id": "DcZczZ3kc9O8",
        "outputId": "62c78ed4-ae7b-4f8f-b5b8-906020b3bba1"
      },
      "execution_count": null,
      "outputs": [
        {
          "output_type": "stream",
          "name": "stderr",
          "text": [
            "/usr/local/lib/python3.7/dist-packages/seaborn/_decorators.py:43: FutureWarning: Pass the following variables as keyword args: x, y. From version 0.12, the only valid positional argument will be `data`, and passing other arguments without an explicit keyword will result in an error or misinterpretation.\n",
            "  FutureWarning\n"
          ]
        },
        {
          "output_type": "display_data",
          "data": {
            "text/plain": [
              "<Figure size 432x288 with 1 Axes>"
            ],
            "image/png": "[encoded data removed]"
          },
          "metadata": {
            "needs_background": "light"
          }
        }
      ]
    },
    {
      "cell_type": "markdown",
      "source": [
        "15. Jan Suter is the most popular director with most number of releases in the last 5 years. In India, Anurag Kashyap holds the top spot for the same."
      ],
      "metadata": {
        "id": "PVWwkGwkne5E"
      }
    },
    {
      "cell_type": "code",
      "source": [
        "a=df[df[\"type\"]==\"Movie\"].groupby(\"listed_in\")[\"title\"].nunique().sort_values(ascending=False)\n",
        "fig,ax=plt.subplots(figsize=(10,5))\n",
        "sns.barplot(a.values,a.index)\n",
        "plt.title(\"Frequency Distribution of Genres - Movies\")\n",
        "plt.show()"
      ],
      "metadata": {
        "colab": {
          "base_uri": "https://localhost:8080/",
          "height": 391
        },
        "id": "H2bRvaCH4_Cf",
        "outputId": "262b9730-af63-4ade-8c7c-eb87e551c056"
      },
      "execution_count": null,
      "outputs": [
        {
          "output_type": "stream",
          "name": "stderr",
          "text": [
            "/usr/local/lib/python3.7/dist-packages/seaborn/_decorators.py:43: FutureWarning: Pass the following variables as keyword args: x, y. From version 0.12, the only valid positional argument will be `data`, and passing other arguments without an explicit keyword will result in an error or misinterpretation.\n",
            "  FutureWarning\n"
          ]
        },
        {
          "output_type": "display_data",
          "data": {
            "text/plain": [
              "<Figure size 720x360 with 1 Axes>"
            ],
            "image/png": "[encoded data removed]"
          },
          "metadata": {
            "needs_background": "light"
          }
        }
      ]
    },
    {
      "cell_type": "code",
      "source": [
        "a=df[df[\"type\"]==\"TV Show\"].groupby(\"listed_in\")[\"title\"].nunique().sort_values(ascending=False)\n",
        "fig,ax=plt.subplots(figsize=(10,5))\n",
        "sns.barplot(a.values,a.index)\n",
        "plt.title(\"Frequency Distribution of Genres - TV Shows\")\n",
        "plt.show()"
      ],
      "metadata": {
        "colab": {
          "base_uri": "https://localhost:8080/",
          "height": 391
        },
        "id": "A_xR14aT5zsp",
        "outputId": "41ac661a-9b92-44fa-9b01-0b9858da17ed"
      },
      "execution_count": null,
      "outputs": [
        {
          "output_type": "stream",
          "name": "stderr",
          "text": [
            "/usr/local/lib/python3.7/dist-packages/seaborn/_decorators.py:43: FutureWarning: Pass the following variables as keyword args: x, y. From version 0.12, the only valid positional argument will be `data`, and passing other arguments without an explicit keyword will result in an error or misinterpretation.\n",
            "  FutureWarning\n"
          ]
        },
        {
          "output_type": "display_data",
          "data": {
            "text/plain": [
              "<Figure size 720x360 with 1 Axes>"
            ],
            "image/png": "[encoded data removed]"
          },
          "metadata": {
            "needs_background": "light"
          }
        }
      ]
    },
    {
      "cell_type": "markdown",
      "source": [
        "16. International Shows, Dramas and Comedies are the most added categories on Netflix in both Movies and TV Shows"
      ],
      "metadata": {
        "id": "kF9Hf9ZznyGc"
      }
    },
    {
      "cell_type": "code",
      "source": [
        "a=df[df[\"type\"]==\"TV Show\"].groupby(\"country\")[\"duration\"].max().sort_values(ascending=False).head(20)\n",
        "a = a[:12]\n",
        "sns.barplot(a.values,a.index)\n",
        "plt.title(\"Top 12 countries - TV Shows with maximum duration \")\n",
        "plt.show()"
      ],
      "metadata": {
        "colab": {
          "base_uri": "https://localhost:8080/",
          "height": 336
        },
        "id": "4oQoi2D_Qj0i",
        "outputId": "2d16602c-ca00-4f4c-ca27-de3ab1cdfd56"
      },
      "execution_count": null,
      "outputs": [
        {
          "output_type": "stream",
          "name": "stderr",
          "text": [
            "/usr/local/lib/python3.7/dist-packages/seaborn/_decorators.py:43: FutureWarning: Pass the following variables as keyword args: x, y. From version 0.12, the only valid positional argument will be `data`, and passing other arguments without an explicit keyword will result in an error or misinterpretation.\n",
            "  FutureWarning\n"
          ]
        },
        {
          "output_type": "display_data",
          "data": {
            "text/plain": [
              "<Figure size 432x288 with 1 Axes>"
            ],
            "image/png": "[encoded data removed]"
          },
          "metadata": {
            "needs_background": "light"
          }
        }
      ]
    },
    {
      "cell_type": "code",
      "source": [
        "a=df[df[\"country\"]==\"United States\"].groupby(\"rating\")[\"title\"].nunique().sort_values(ascending=False)\n",
        "a"
      ],
      "metadata": {
        "colab": {
          "base_uri": "https://localhost:8080/"
        },
        "id": "VgQBUeflxtES",
        "outputId": "0e786395-abdc-4aa9-8935-48933da5367d"
      },
      "execution_count": null,
      "outputs": [
        {
          "output_type": "execute_result",
          "data": {
            "text/plain": [
              "rating\n",
              "TV-MA        1376\n",
              "TV-14         727\n",
              "R             671\n",
              "PG-13         441\n",
              "TV-PG         394\n",
              "PG            249\n",
              "TV-Y7         245\n",
              "TV-Y          207\n",
              "TV-G          119\n",
              "NR             43\n",
              "G              39\n",
              "Not Known       4\n",
              "TV-Y7-FV        3\n",
              "NC-17           1\n",
              "UR              1\n",
              "Name: title, dtype: int64"
            ]
          },
          "metadata": {},
          "execution_count": 608
        }
      ]
    },
    {
      "cell_type": "code",
      "source": [
        "a=df[df[\"country\"]==\"India\"].groupby(\"rating\")[\"title\"].nunique().sort_values(ascending=False)\n",
        "a"
      ],
      "metadata": {
        "colab": {
          "base_uri": "https://localhost:8080/"
        },
        "id": "SPO5xZN5yQSP",
        "outputId": "f77a988e-eb6d-4301-93b8-90424ca7deea"
      },
      "execution_count": null,
      "outputs": [
        {
          "output_type": "execute_result",
          "data": {
            "text/plain": [
              "rating\n",
              "TV-14       572\n",
              "TV-MA       266\n",
              "TV-PG       144\n",
              "TV-Y7        17\n",
              "PG-13        11\n",
              "TV-G         10\n",
              "NR            7\n",
              "PG            7\n",
              "TV-Y          6\n",
              "R             5\n",
              "TV-Y7-FV      1\n",
              "Name: title, dtype: int64"
            ]
          },
          "metadata": {},
          "execution_count": 609
        }
      ]
    },
    {
      "cell_type": "code",
      "source": [
        "a=df[df[\"country\"]==\"Japan\"].groupby(\"rating\")[\"title\"].nunique().sort_values(ascending=False)\n",
        "a"
      ],
      "metadata": {
        "colab": {
          "base_uri": "https://localhost:8080/"
        },
        "id": "p6JVC4cNyTe-",
        "outputId": "629ac490-f9c3-4c23-bc89-a5dea5bceffb"
      },
      "execution_count": null,
      "outputs": [
        {
          "output_type": "execute_result",
          "data": {
            "text/plain": [
              "rating\n",
              "TV-MA        101\n",
              "TV-14         99\n",
              "TV-PG         50\n",
              "TV-Y7         32\n",
              "PG            11\n",
              "PG-13          9\n",
              "R              9\n",
              "TV-Y           3\n",
              "TV-G           2\n",
              "G              1\n",
              "Not Known      1\n",
              "Name: title, dtype: int64"
            ]
          },
          "metadata": {},
          "execution_count": 610
        }
      ]
    },
    {
      "cell_type": "code",
      "source": [
        "a=df[df[\"country\"]==\"Singapore\"].groupby(\"rating\")[\"title\"].nunique().sort_values(ascending=False)\n",
        "a"
      ],
      "metadata": {
        "colab": {
          "base_uri": "https://localhost:8080/"
        },
        "id": "T3kKOY3RyXAi",
        "outputId": "a3f8f273-8a38-4dfe-836b-118e14a05057"
      },
      "execution_count": null,
      "outputs": [
        {
          "output_type": "execute_result",
          "data": {
            "text/plain": [
              "rating\n",
              "TV-14    19\n",
              "TV-MA    12\n",
              "R         4\n",
              "TV-PG     3\n",
              "TV-Y      2\n",
              "TV-Y7     1\n",
              "Name: title, dtype: int64"
            ]
          },
          "metadata": {},
          "execution_count": 611
        }
      ]
    },
    {
      "cell_type": "code",
      "source": [
        "a=df[df[\"country\"]==\"Denmark\"].groupby(\"rating\")[\"title\"].nunique().sort_values(ascending=False)\n",
        "a"
      ],
      "metadata": {
        "colab": {
          "base_uri": "https://localhost:8080/"
        },
        "id": "TRA3SWTAyfKy",
        "outputId": "45ca1608-5eae-41b0-ef0e-c304dc61f836"
      },
      "execution_count": null,
      "outputs": [
        {
          "output_type": "execute_result",
          "data": {
            "text/plain": [
              "rating\n",
              "TV-MA       23\n",
              "R            5\n",
              "TV-14        4\n",
              "PG-13        3\n",
              "TV-G         3\n",
              "TV-PG        3\n",
              "NR           2\n",
              "TV-Y         2\n",
              "TV-Y7        2\n",
              "TV-Y7-FV     1\n",
              "Name: title, dtype: int64"
            ]
          },
          "metadata": {},
          "execution_count": 612
        }
      ]
    },
    {
      "cell_type": "code",
      "source": [
        "a=df[df[\"country\"]==\"United Kingdom\"].groupby(\"rating\")[\"title\"].nunique().sort_values(ascending=False)\n",
        "a"
      ],
      "metadata": {
        "colab": {
          "base_uri": "https://localhost:8080/"
        },
        "id": "OCdqtk6Myh2O",
        "outputId": "11faa36f-3172-4389-d399-1f4ed46e106f"
      },
      "execution_count": null,
      "outputs": [
        {
          "output_type": "execute_result",
          "data": {
            "text/plain": [
              "rating\n",
              "TV-MA    251\n",
              "R        145\n",
              "TV-14    103\n",
              "TV-PG     98\n",
              "PG-13     84\n",
              "PG        35\n",
              "TV-Y      34\n",
              "TV-G      25\n",
              "NR        12\n",
              "TV-Y7     12\n",
              "G          4\n",
              "UR         1\n",
              "Name: title, dtype: int64"
            ]
          },
          "metadata": {},
          "execution_count": 624
        }
      ]
    },
    {
      "cell_type": "markdown",
      "source": [
        "17. Apart from US and Canada, there are countries like Singapore, Denmark, UK, Japan etc. that had very popular TV shows which ran for more than 9 Seasons.\n",
        "TV-MA is the most popular rating across these countries except for Singapore where TV-14 is the popular rating."
      ],
      "metadata": {
        "id": "GxaEow36y4Zo"
      }
    },
    {
      "cell_type": "code",
      "source": [
        "a=df.groupby([\"country\",\"listed_in\"])[\"title\"].nunique().sort_values(ascending=False)[\"Japan\"]\n",
        "a"
      ],
      "metadata": {
        "colab": {
          "base_uri": "https://localhost:8080/"
        },
        "id": "KTZohG1ozJQL",
        "outputId": "b3b71c0e-93b1-4414-f357-8661e0121195"
      },
      "execution_count": null,
      "outputs": [
        {
          "output_type": "execute_result",
          "data": {
            "text/plain": [
              "listed_in\n",
              "International TV Shows          151\n",
              "Anime Series                    143\n",
              "International Movies             72\n",
              "Anime Features                   61\n",
              "Action & Adventure               57\n",
              "Kids' TV                         29\n",
              "Dramas                           23\n",
              "Romantic TV Shows                21\n",
              "TV Dramas                        21\n",
              "Children & Family Movies         19\n",
              "Crime TV Shows                   16\n",
              "Teen TV Shows                    14\n",
              "TV Comedies                      10\n",
              "Comedies                          9\n",
              "Reality TV                        9\n",
              "Sci-Fi & Fantasy                  9\n",
              "Independent Movies                7\n",
              "Documentaries                     7\n",
              "Romantic Movies                   7\n",
              "Music & Musicals                  6\n",
              "TV Thrillers                      6\n",
              "TV Action & Adventure             5\n",
              "TV Horror                         5\n",
              "Thrillers                         5\n",
              "Horror Movies                     4\n",
              "TV Mysteries                      4\n",
              "Classic Movies                    3\n",
              "Docuseries                        2\n",
              "Movies                            2\n",
              "British TV Shows                  1\n",
              "Cult Movies                       1\n",
              "LGBTQ Movies                      1\n",
              "Sports Movies                     1\n",
              "Stand-Up Comedy & Talk Shows      1\n",
              "TV Shows                          1\n",
              "Name: title, dtype: int64"
            ]
          },
          "metadata": {},
          "execution_count": 614
        }
      ]
    },
    {
      "cell_type": "code",
      "source": [
        "a=df.groupby([\"country\",\"listed_in\"])[\"title\"].nunique().sort_values(ascending=False)[\"Singapore\"]\n",
        "a"
      ],
      "metadata": {
        "colab": {
          "base_uri": "https://localhost:8080/"
        },
        "id": "o8-eWfW3zvdE",
        "outputId": "54901f7c-9fca-4356-a881-39f9b61d8e93"
      },
      "execution_count": null,
      "outputs": [
        {
          "output_type": "execute_result",
          "data": {
            "text/plain": [
              "listed_in\n",
              "International TV Shows    19\n",
              "TV Dramas                 15\n",
              "International Movies      14\n",
              "Dramas                     7\n",
              "Crime TV Shows             5\n",
              "Action & Adventure         5\n",
              "Romantic TV Shows          5\n",
              "Kids' TV                   3\n",
              "Thrillers                  3\n",
              "Horror Movies              3\n",
              "TV Comedies                2\n",
              "TV Horror                  2\n",
              "Reality TV                 2\n",
              "Korean TV Shows            1\n",
              "TV Sci-Fi & Fantasy        1\n",
              "Sci-Fi & Fantasy           1\n",
              "Romantic Movies            1\n",
              "Stand-Up Comedy            1\n",
              "Independent Movies         1\n",
              "Documentaries              1\n",
              "Anime Series               1\n",
              "Cult Movies                1\n",
              "Name: title, dtype: int64"
            ]
          },
          "metadata": {},
          "execution_count": 615
        }
      ]
    },
    {
      "cell_type": "code",
      "source": [
        "a=df.groupby([\"country\",\"listed_in\"])[\"title\"].nunique().sort_values(ascending=False)[\"Denmark\"]\n",
        "a"
      ],
      "metadata": {
        "colab": {
          "base_uri": "https://localhost:8080/"
        },
        "id": "qJ2R7UA-z5JL",
        "outputId": "b720fd91-6987-49a9-87b0-6930917cb949"
      },
      "execution_count": null,
      "outputs": [
        {
          "output_type": "execute_result",
          "data": {
            "text/plain": [
              "listed_in\n",
              "International Movies        23\n",
              "Dramas                      16\n",
              "Documentaries               11\n",
              "International TV Shows      10\n",
              "Independent Movies           9\n",
              "TV Dramas                    8\n",
              "Thrillers                    5\n",
              "Kids' TV                     4\n",
              "Children & Family Movies     3\n",
              "TV Comedies                  3\n",
              "Action & Adventure           3\n",
              "TV Mysteries                 2\n",
              "Crime TV Shows               2\n",
              "Romantic Movies              2\n",
              "Sports Movies                2\n",
              "Comedies                     1\n",
              "Cult Movies                  1\n",
              "Docuseries                   1\n",
              "TV Action & Adventure        1\n",
              "TV Thrillers                 1\n",
              "Name: title, dtype: int64"
            ]
          },
          "metadata": {},
          "execution_count": 616
        }
      ]
    },
    {
      "cell_type": "code",
      "source": [
        "a=df.groupby([\"country\",\"listed_in\"])[\"title\"].nunique().sort_values(ascending=False)[\"United Kingdom\"]\n",
        "a"
      ],
      "metadata": {
        "colab": {
          "base_uri": "https://localhost:8080/"
        },
        "id": "dU5LAbvr0DEv",
        "outputId": "860792cc-21a6-46d4-d622-b9d2b24c6e92"
      },
      "execution_count": null,
      "outputs": [
        {
          "output_type": "execute_result",
          "data": {
            "text/plain": [
              "listed_in\n",
              "British TV Shows                225\n",
              "Dramas                          196\n",
              "International Movies            168\n",
              "International TV Shows          128\n",
              "Documentaries                   127\n",
              "Comedies                         91\n",
              "Docuseries                       89\n",
              "Action & Adventure               84\n",
              "Independent Movies               74\n",
              "Thrillers                        61\n",
              "Crime TV Shows                   48\n",
              "Children & Family Movies         46\n",
              "TV Comedies                      44\n",
              "Kids' TV                         43\n",
              "Romantic Movies                  38\n",
              "Music & Musicals                 36\n",
              "TV Dramas                        36\n",
              "Sci-Fi & Fantasy                 35\n",
              "Reality TV                       35\n",
              "Horror Movies                    28\n",
              "Science & Nature TV              27\n",
              "Stand-Up Comedy                  21\n",
              "Sports Movies                    21\n",
              "Classic Movies                   16\n",
              "Romantic TV Shows                11\n",
              "TV Action & Adventure             9\n",
              "LGBTQ Movies                      7\n",
              "Classic & Cult TV                 7\n",
              "Cult Movies                       7\n",
              "Faith & Spirituality              5\n",
              "TV Sci-Fi & Fantasy               4\n",
              "Movies                            4\n",
              "TV Horror                         2\n",
              "TV Mysteries                      2\n",
              "TV Thrillers                      2\n",
              "Stand-Up Comedy & Talk Shows      1\n",
              "Spanish-Language TV Shows         1\n",
              "Name: title, dtype: int64"
            ]
          },
          "metadata": {},
          "execution_count": 617
        }
      ]
    }
  ]
}